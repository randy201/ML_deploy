{
 "cells": [
  {
   "cell_type": "markdown",
   "id": "eb96db9c",
   "metadata": {},
   "source": [
    "### 📌 Partie 1 : Préparation des données"
   ]
  },
  {
   "cell_type": "code",
   "execution_count": 29,
   "id": "b1bb8a7c",
   "metadata": {},
   "outputs": [],
   "source": [
    "import numpy as np\n",
    "import pandas as pd\n",
    "from sklearn.model_selection import train_test_split\n",
    "from sklearn.pipeline import Pipeline\n",
    "from sklearn.compose import ColumnTransformer\n",
    "from sklearn.linear_model import LinearRegression\n",
    "from sklearn.preprocessing import StandardScaler, OneHotEncoder\n",
    "from sklearn.metrics import mean_squared_error, r2_score\n",
    "\n"
   ]
  },
  {
   "cell_type": "markdown",
   "id": "4d4a4a85",
   "metadata": {},
   "source": [
    "- Lecture du dataset brut"
   ]
  },
  {
   "cell_type": "code",
   "execution_count": 30,
   "id": "51ee2420",
   "metadata": {},
   "outputs": [],
   "source": [
    "df = pd.read_csv(\"7_data_regression.csv\",encoding=\"utf-8\")"
   ]
  },
  {
   "cell_type": "markdown",
   "id": "084be4ef",
   "metadata": {},
   "source": [
    "- Gestion des valeurs manquantes"
   ]
  },
  {
   "cell_type": "code",
   "execution_count": 31,
   "id": "f72637b8",
   "metadata": {},
   "outputs": [],
   "source": [
    "# Variables numériques : médiane\n",
    "df['superficie'] = df['superficie'].fillna(df['superficie'].median())\n",
    "df['nombre_chambres'] = df['nombre_chambres'].fillna(df['nombre_chambres'].median())\n",
    "df['loyer_mensuel'] = df['loyer_mensuel'].fillna(df['loyer_mensuel'].median())\n",
    "\n",
    "# Variables catégorielles : mode ou valeur par défaut\n",
    "df['douche_wc'] = df['douche_wc'].fillna(df['douche_wc'].mode()[0])\n",
    "df['type_d_acces'] = df['type_d_acces'].fillna(df['type_d_acces'].mode()[0])\n",
    "df['meuble'] = df['meuble'].fillna('non')\n",
    "df['etat_general'] = df['etat_general'].fillna(df['etat_general'].mode()[0])"
   ]
  },
  {
   "cell_type": "markdown",
   "id": "6c334939",
   "metadata": {},
   "source": [
    "- Encodage des variables catégorielles"
   ]
  },
  {
   "cell_type": "code",
   "execution_count": 32,
   "id": "68e8e99c",
   "metadata": {},
   "outputs": [],
   "source": [
    "num_features = ['superficie', 'nombre_chambres']\n",
    "cat_features = ['quartier', 'douche_wc', 'type_d_acces', 'meuble', 'etat_general']\n",
    "preprocessor = ColumnTransformer(\n",
    "    transformers=[\n",
    "        ('num', StandardScaler(), num_features),\n",
    "        ('cat', OneHotEncoder(drop='first', handle_unknown='ignore'), cat_features)\n",
    "    ]\n",
    ")"
   ]
  },
  {
   "cell_type": "markdown",
   "id": "e9d089f2",
   "metadata": {},
   "source": [
    "- Création de variables dérivées"
   ]
  },
  {
   "cell_type": "code",
   "execution_count": 33,
   "id": "fbb51f81",
   "metadata": {},
   "outputs": [],
   "source": [
    "# Prix par m²\n",
    "df[\"prix_par_m2\"] = df[\"loyer_mensuel\"] / df[\"superficie\"]\n",
    "\n",
    "# Classification des quartiers\n",
    "quartiers_residentiels = [\"Ivandry\", \"Ankorondrano\", \"Ambatobe\"]\n",
    "df[\"quartier_type\"] = df[\"quartier\"].apply(\n",
    "lambda x: \"residentiel\" if x in quartiers_residentiels else \"populaire\"\n",
    ")"
   ]
  },
  {
   "cell_type": "markdown",
   "id": "2d830c16",
   "metadata": {},
   "source": [
    "- Détection et suppression des variables fortement corrélées"
   ]
  },
  {
   "cell_type": "code",
   "execution_count": null,
   "id": "f7df13c9",
   "metadata": {},
   "outputs": [
    {
     "ename": "ValueError",
     "evalue": "could not convert string to float: 'Antaninarenina'",
     "output_type": "error",
     "traceback": [
      "\u001b[31m---------------------------------------------------------------------------\u001b[39m",
      "\u001b[31mValueError\u001b[39m                                Traceback (most recent call last)",
      "\u001b[36mCell\u001b[39m\u001b[36m \u001b[39m\u001b[32mIn[36]\u001b[39m\u001b[32m, line 5\u001b[39m\n\u001b[32m      2\u001b[39m y = df[\u001b[33m'\u001b[39m\u001b[33mloyer_mensuel\u001b[39m\u001b[33m'\u001b[39m]\n\u001b[32m      4\u001b[39m \u001b[38;5;66;03m# matrice de correlation\u001b[39;00m\n\u001b[32m----> \u001b[39m\u001b[32m5\u001b[39m \u001b[43mX\u001b[49m\u001b[43m.\u001b[49m\u001b[43mcorr\u001b[49m\u001b[43m(\u001b[49m\u001b[43m)\u001b[49m \n",
      "\u001b[36mFile \u001b[39m\u001b[32m~\\AppData\\Local\\Packages\\PythonSoftwareFoundation.Python.3.13_qbz5n2kfra8p0\\LocalCache\\local-packages\\Python313\\site-packages\\pandas\\core\\frame.py:11049\u001b[39m, in \u001b[36mDataFrame.corr\u001b[39m\u001b[34m(self, method, min_periods, numeric_only)\u001b[39m\n\u001b[32m  11047\u001b[39m cols = data.columns\n\u001b[32m  11048\u001b[39m idx = cols.copy()\n\u001b[32m> \u001b[39m\u001b[32m11049\u001b[39m mat = \u001b[43mdata\u001b[49m\u001b[43m.\u001b[49m\u001b[43mto_numpy\u001b[49m\u001b[43m(\u001b[49m\u001b[43mdtype\u001b[49m\u001b[43m=\u001b[49m\u001b[38;5;28;43mfloat\u001b[39;49m\u001b[43m,\u001b[49m\u001b[43m \u001b[49m\u001b[43mna_value\u001b[49m\u001b[43m=\u001b[49m\u001b[43mnp\u001b[49m\u001b[43m.\u001b[49m\u001b[43mnan\u001b[49m\u001b[43m,\u001b[49m\u001b[43m \u001b[49m\u001b[43mcopy\u001b[49m\u001b[43m=\u001b[49m\u001b[38;5;28;43;01mFalse\u001b[39;49;00m\u001b[43m)\u001b[49m\n\u001b[32m  11051\u001b[39m \u001b[38;5;28;01mif\u001b[39;00m method == \u001b[33m\"\u001b[39m\u001b[33mpearson\u001b[39m\u001b[33m\"\u001b[39m:\n\u001b[32m  11052\u001b[39m     correl = libalgos.nancorr(mat, minp=min_periods)\n",
      "\u001b[36mFile \u001b[39m\u001b[32m~\\AppData\\Local\\Packages\\PythonSoftwareFoundation.Python.3.13_qbz5n2kfra8p0\\LocalCache\\local-packages\\Python313\\site-packages\\pandas\\core\\frame.py:1993\u001b[39m, in \u001b[36mDataFrame.to_numpy\u001b[39m\u001b[34m(self, dtype, copy, na_value)\u001b[39m\n\u001b[32m   1991\u001b[39m \u001b[38;5;28;01mif\u001b[39;00m dtype \u001b[38;5;129;01mis\u001b[39;00m \u001b[38;5;129;01mnot\u001b[39;00m \u001b[38;5;28;01mNone\u001b[39;00m:\n\u001b[32m   1992\u001b[39m     dtype = np.dtype(dtype)\n\u001b[32m-> \u001b[39m\u001b[32m1993\u001b[39m result = \u001b[38;5;28;43mself\u001b[39;49m\u001b[43m.\u001b[49m\u001b[43m_mgr\u001b[49m\u001b[43m.\u001b[49m\u001b[43mas_array\u001b[49m\u001b[43m(\u001b[49m\u001b[43mdtype\u001b[49m\u001b[43m=\u001b[49m\u001b[43mdtype\u001b[49m\u001b[43m,\u001b[49m\u001b[43m \u001b[49m\u001b[43mcopy\u001b[49m\u001b[43m=\u001b[49m\u001b[43mcopy\u001b[49m\u001b[43m,\u001b[49m\u001b[43m \u001b[49m\u001b[43mna_value\u001b[49m\u001b[43m=\u001b[49m\u001b[43mna_value\u001b[49m\u001b[43m)\u001b[49m\n\u001b[32m   1994\u001b[39m \u001b[38;5;28;01mif\u001b[39;00m result.dtype \u001b[38;5;129;01mis\u001b[39;00m \u001b[38;5;129;01mnot\u001b[39;00m dtype:\n\u001b[32m   1995\u001b[39m     result = np.asarray(result, dtype=dtype)\n",
      "\u001b[36mFile \u001b[39m\u001b[32m~\\AppData\\Local\\Packages\\PythonSoftwareFoundation.Python.3.13_qbz5n2kfra8p0\\LocalCache\\local-packages\\Python313\\site-packages\\pandas\\core\\internals\\managers.py:1694\u001b[39m, in \u001b[36mBlockManager.as_array\u001b[39m\u001b[34m(self, dtype, copy, na_value)\u001b[39m\n\u001b[32m   1692\u001b[39m         arr.flags.writeable = \u001b[38;5;28;01mFalse\u001b[39;00m\n\u001b[32m   1693\u001b[39m \u001b[38;5;28;01melse\u001b[39;00m:\n\u001b[32m-> \u001b[39m\u001b[32m1694\u001b[39m     arr = \u001b[38;5;28;43mself\u001b[39;49m\u001b[43m.\u001b[49m\u001b[43m_interleave\u001b[49m\u001b[43m(\u001b[49m\u001b[43mdtype\u001b[49m\u001b[43m=\u001b[49m\u001b[43mdtype\u001b[49m\u001b[43m,\u001b[49m\u001b[43m \u001b[49m\u001b[43mna_value\u001b[49m\u001b[43m=\u001b[49m\u001b[43mna_value\u001b[49m\u001b[43m)\u001b[49m\n\u001b[32m   1695\u001b[39m     \u001b[38;5;66;03m# The underlying data was copied within _interleave, so no need\u001b[39;00m\n\u001b[32m   1696\u001b[39m     \u001b[38;5;66;03m# to further copy if copy=True or setting na_value\u001b[39;00m\n\u001b[32m   1698\u001b[39m \u001b[38;5;28;01mif\u001b[39;00m na_value \u001b[38;5;129;01mis\u001b[39;00m lib.no_default:\n",
      "\u001b[36mFile \u001b[39m\u001b[32m~\\AppData\\Local\\Packages\\PythonSoftwareFoundation.Python.3.13_qbz5n2kfra8p0\\LocalCache\\local-packages\\Python313\\site-packages\\pandas\\core\\internals\\managers.py:1753\u001b[39m, in \u001b[36mBlockManager._interleave\u001b[39m\u001b[34m(self, dtype, na_value)\u001b[39m\n\u001b[32m   1751\u001b[39m     \u001b[38;5;28;01melse\u001b[39;00m:\n\u001b[32m   1752\u001b[39m         arr = blk.get_values(dtype)\n\u001b[32m-> \u001b[39m\u001b[32m1753\u001b[39m     \u001b[43mresult\u001b[49m\u001b[43m[\u001b[49m\u001b[43mrl\u001b[49m\u001b[43m.\u001b[49m\u001b[43mindexer\u001b[49m\u001b[43m]\u001b[49m = arr\n\u001b[32m   1754\u001b[39m     itemmask[rl.indexer] = \u001b[32m1\u001b[39m\n\u001b[32m   1756\u001b[39m \u001b[38;5;28;01mif\u001b[39;00m \u001b[38;5;129;01mnot\u001b[39;00m itemmask.all():\n",
      "\u001b[31mValueError\u001b[39m: could not convert string to float: 'Antaninarenina'"
     ]
    }
   ],
   "source": [
    "X = df.drop('loyer_mensuel', axis=1)\n",
    "y = df['loyer_mensuel']\n",
    "\n",
    "all_numerique_cols = ['superficie', 'nombre_chambres', 'prix_par_m2']\n",
    "all_cat_features = ['quartier', 'douche_wc', 'type_d_acces', 'meuble', 'etat_general','quartier_type']\n",
    "\n"
   ]
  },
  {
   "cell_type": "markdown",
   "id": "12b4f431",
   "metadata": {},
   "source": [
    "- Standardisation et normalisation"
   ]
  },
  {
   "cell_type": "markdown",
   "id": "caf1463c",
   "metadata": {},
   "source": [
    "### 📌 Partie 2 : Modélisation"
   ]
  },
  {
   "cell_type": "markdown",
   "id": "a4555cd5",
   "metadata": {},
   "source": [
    "- Séparation train/test"
   ]
  },
  {
   "cell_type": "code",
   "execution_count": null,
   "id": "aa6b9bc3",
   "metadata": {},
   "outputs": [],
   "source": [
    "X = df.drop(\"loyer_mensuel\", axis=1)\n",
    "y = df[\"loyer_mensuel\"]\n",
    "\n",
    "X_train, X_test, y_train, y_test = train_test_split(X, y, test_size=0.2, random_state=42)"
   ]
  },
  {
   "cell_type": "markdown",
   "id": "82c2f560",
   "metadata": {},
   "source": [
    "- Implémentation de la régression linéaire multiple"
   ]
  },
  {
   "cell_type": "markdown",
   "id": "8a448274",
   "metadata": {},
   "source": [
    "- Évaluation : R², RMSE"
   ]
  },
  {
   "cell_type": "code",
   "execution_count": null,
   "id": "9e560359",
   "metadata": {},
   "outputs": [
    {
     "name": "stdout",
     "output_type": "stream",
     "text": [
      "✅ RMSE : 4453125468.37\n",
      "✅ R² : 0.9755\n"
     ]
    }
   ],
   "source": [
    "# 🔹 Pipeline de prétraitement\n",
    "preprocessor = ColumnTransformer(transformers=[\n",
    "    ('num', StandardScaler(), num_features),\n",
    "    ('cat', OneHotEncoder(drop='first', handle_unknown='ignore'), cat_features)\n",
    "])\n",
    "\n",
    "# 🔹 Pipeline complet\n",
    "pipeline = Pipeline([\n",
    "    ('preprocessing', preprocessor),\n",
    "    ('regressor', LinearRegression())\n",
    "])\n",
    "\n",
    "# 🔹 Entraînement du modèle\n",
    "pipeline.fit(X_train, y_train)\n",
    "\n",
    "# 🔹 Prédiction et évaluation\n",
    "y_pred = pipeline.predict(X_test)\n",
    "rmse = mean_squared_error(y_test, y_pred)\n",
    "r2 = r2_score(y_test, y_pred)\n",
    "\n",
    "print(\"✅ RMSE :\", round(rmse, 2))\n",
    "print(\"✅ R² :\", round(r2, 4))"
   ]
  },
  {
   "cell_type": "code",
   "execution_count": null,
   "id": "0154e680",
   "metadata": {},
   "outputs": [],
   "source": []
  }
 ],
 "metadata": {
  "language_info": {
   "name": "python"
  }
 },
 "nbformat": 4,
 "nbformat_minor": 5
}
