{
 "cells": [
  {
   "cell_type": "markdown",
   "id": "24d8c82a",
   "metadata": {},
   "source": [
    "# 🧪 TP – Analyse des performances d’étudiants\n",
    "\n",
    "🎯 **Objectif :** Préparer ce dataset pour un prochain cours qui prédira la note finale d’un étudiant."
   ]
  },
  {
   "cell_type": "markdown",
   "id": "3cd53ce4",
   "metadata": {},
   "source": [
    "### Jeu de données : StudentsPerformance.csv\n",
    "### Réponder aux questions dans la cellule suivant la question\n",
    "### Modules autorisés : pandas, mathplotlib, numpy, seaborn, scikit-learn"
   ]
  },
  {
   "cell_type": "markdown",
   "id": "c526404b",
   "metadata": {},
   "source": [
    "## 📋 Questions"
   ]
  },
  {
   "cell_type": "markdown",
   "id": "c44c110a-ca89-408a-8bd3-ffb15f7c96e5",
   "metadata": {},
   "source": [
    "### 🔹 0. charger le jeu de données et ajout de colonne average_score"
   ]
  },
  {
   "cell_type": "markdown",
   "id": "a7fa23b5-d6d4-4b61-af8d-3d0e77ac0196",
   "metadata": {},
   "source": [
    "a. Charger le jeu de données et puis ajouter une colonne 'average_score' (moyenne des trois notes \"math score\",\"reading score\",\"writing score\" dans le jeu de données"
   ]
  },
  {
   "cell_type": "code",
   "execution_count": 175,
   "id": "80377eef-7f49-4f0d-aa77-63f01ec06d65",
   "metadata": {},
   "outputs": [],
   "source": [
    "import pandas as pd\n",
    "\n",
    "data = pd.read_csv('8_StudentsPerformance.csv')\n",
    "\n",
    "data['average_score'] = data[['math score', 'reading score', 'writing score']].mean(axis=1)"
   ]
  },
  {
   "cell_type": "markdown",
   "id": "d701b67c",
   "metadata": {},
   "source": [
    "### 🔹 1. Exploration de base"
   ]
  },
  {
   "cell_type": "markdown",
   "id": "20bac6d5-1a5d-4b18-b032-cc29b5f11671",
   "metadata": {},
   "source": [
    "a. Charger le jeu de données et Afficher les 10 premières lignes du dataset"
   ]
  },
  {
   "cell_type": "code",
   "execution_count": 159,
   "id": "a7dcf5df-469a-4e16-9665-dcf5764deb58",
   "metadata": {},
   "outputs": [
    {
     "data": {
      "text/html": [
       "<div>\n",
       "<style scoped>\n",
       "    .dataframe tbody tr th:only-of-type {\n",
       "        vertical-align: middle;\n",
       "    }\n",
       "\n",
       "    .dataframe tbody tr th {\n",
       "        vertical-align: top;\n",
       "    }\n",
       "\n",
       "    .dataframe thead th {\n",
       "        text-align: right;\n",
       "    }\n",
       "</style>\n",
       "<table border=\"1\" class=\"dataframe\">\n",
       "  <thead>\n",
       "    <tr style=\"text-align: right;\">\n",
       "      <th></th>\n",
       "      <th>gender</th>\n",
       "      <th>race/ethnicity</th>\n",
       "      <th>parental level of education</th>\n",
       "      <th>lunch</th>\n",
       "      <th>test preparation course</th>\n",
       "      <th>math score</th>\n",
       "      <th>reading score</th>\n",
       "      <th>writing score</th>\n",
       "      <th>average_score</th>\n",
       "    </tr>\n",
       "  </thead>\n",
       "  <tbody>\n",
       "    <tr>\n",
       "      <th>0</th>\n",
       "      <td>female</td>\n",
       "      <td>group B</td>\n",
       "      <td>bachelor's degree</td>\n",
       "      <td>standard</td>\n",
       "      <td>none</td>\n",
       "      <td>72</td>\n",
       "      <td>72.0</td>\n",
       "      <td>74.0</td>\n",
       "      <td>72.666667</td>\n",
       "    </tr>\n",
       "    <tr>\n",
       "      <th>1</th>\n",
       "      <td>female</td>\n",
       "      <td>group C</td>\n",
       "      <td>some college</td>\n",
       "      <td>standard</td>\n",
       "      <td>completed</td>\n",
       "      <td>69</td>\n",
       "      <td>90.0</td>\n",
       "      <td>88.0</td>\n",
       "      <td>82.333333</td>\n",
       "    </tr>\n",
       "    <tr>\n",
       "      <th>2</th>\n",
       "      <td>female</td>\n",
       "      <td>group B</td>\n",
       "      <td>master's degree</td>\n",
       "      <td>standard</td>\n",
       "      <td>none</td>\n",
       "      <td>90</td>\n",
       "      <td>95.0</td>\n",
       "      <td>93.0</td>\n",
       "      <td>92.666667</td>\n",
       "    </tr>\n",
       "    <tr>\n",
       "      <th>3</th>\n",
       "      <td>male</td>\n",
       "      <td>group A</td>\n",
       "      <td>associate's degree</td>\n",
       "      <td>free/reduced</td>\n",
       "      <td>none</td>\n",
       "      <td>47</td>\n",
       "      <td>57.0</td>\n",
       "      <td>44.0</td>\n",
       "      <td>49.333333</td>\n",
       "    </tr>\n",
       "    <tr>\n",
       "      <th>4</th>\n",
       "      <td>male</td>\n",
       "      <td>group C</td>\n",
       "      <td>some college</td>\n",
       "      <td>standard</td>\n",
       "      <td>none</td>\n",
       "      <td>76</td>\n",
       "      <td>78.0</td>\n",
       "      <td>75.0</td>\n",
       "      <td>76.333333</td>\n",
       "    </tr>\n",
       "    <tr>\n",
       "      <th>5</th>\n",
       "      <td>female</td>\n",
       "      <td>group B</td>\n",
       "      <td>associate's degree</td>\n",
       "      <td>standard</td>\n",
       "      <td>none</td>\n",
       "      <td>71</td>\n",
       "      <td>83.0</td>\n",
       "      <td>78.0</td>\n",
       "      <td>77.333333</td>\n",
       "    </tr>\n",
       "    <tr>\n",
       "      <th>6</th>\n",
       "      <td>female</td>\n",
       "      <td>group B</td>\n",
       "      <td>some college</td>\n",
       "      <td>standard</td>\n",
       "      <td>completed</td>\n",
       "      <td>88</td>\n",
       "      <td>95.0</td>\n",
       "      <td>92.0</td>\n",
       "      <td>91.666667</td>\n",
       "    </tr>\n",
       "    <tr>\n",
       "      <th>7</th>\n",
       "      <td>male</td>\n",
       "      <td>group B</td>\n",
       "      <td>some college</td>\n",
       "      <td>free/reduced</td>\n",
       "      <td>none</td>\n",
       "      <td>40</td>\n",
       "      <td>43.0</td>\n",
       "      <td>39.0</td>\n",
       "      <td>40.666667</td>\n",
       "    </tr>\n",
       "    <tr>\n",
       "      <th>8</th>\n",
       "      <td>male</td>\n",
       "      <td>group D</td>\n",
       "      <td>high school</td>\n",
       "      <td>free/reduced</td>\n",
       "      <td>completed</td>\n",
       "      <td>64</td>\n",
       "      <td>64.0</td>\n",
       "      <td>67.0</td>\n",
       "      <td>65.000000</td>\n",
       "    </tr>\n",
       "    <tr>\n",
       "      <th>9</th>\n",
       "      <td>female</td>\n",
       "      <td>group B</td>\n",
       "      <td>high school</td>\n",
       "      <td>free/reduced</td>\n",
       "      <td>none</td>\n",
       "      <td>38</td>\n",
       "      <td>60.0</td>\n",
       "      <td>50.0</td>\n",
       "      <td>49.333333</td>\n",
       "    </tr>\n",
       "  </tbody>\n",
       "</table>\n",
       "</div>"
      ],
      "text/plain": [
       "   gender race/ethnicity parental level of education         lunch  \\\n",
       "0  female        group B           bachelor's degree      standard   \n",
       "1  female        group C                some college      standard   \n",
       "2  female        group B             master's degree      standard   \n",
       "3    male        group A          associate's degree  free/reduced   \n",
       "4    male        group C                some college      standard   \n",
       "5  female        group B          associate's degree      standard   \n",
       "6  female        group B                some college      standard   \n",
       "7    male        group B                some college  free/reduced   \n",
       "8    male        group D                 high school  free/reduced   \n",
       "9  female        group B                 high school  free/reduced   \n",
       "\n",
       "  test preparation course  math score  reading score  writing score  \\\n",
       "0                    none          72           72.0           74.0   \n",
       "1               completed          69           90.0           88.0   \n",
       "2                    none          90           95.0           93.0   \n",
       "3                    none          47           57.0           44.0   \n",
       "4                    none          76           78.0           75.0   \n",
       "5                    none          71           83.0           78.0   \n",
       "6               completed          88           95.0           92.0   \n",
       "7                    none          40           43.0           39.0   \n",
       "8               completed          64           64.0           67.0   \n",
       "9                    none          38           60.0           50.0   \n",
       "\n",
       "   average_score  \n",
       "0      72.666667  \n",
       "1      82.333333  \n",
       "2      92.666667  \n",
       "3      49.333333  \n",
       "4      76.333333  \n",
       "5      77.333333  \n",
       "6      91.666667  \n",
       "7      40.666667  \n",
       "8      65.000000  \n",
       "9      49.333333  "
      ]
     },
     "execution_count": 159,
     "metadata": {},
     "output_type": "execute_result"
    }
   ],
   "source": [
    "data.head(10)"
   ]
  },
  {
   "cell_type": "markdown",
   "id": "8afa19ce-bc1c-43ac-a271-3855cfba9412",
   "metadata": {},
   "source": [
    "b. Combien d’étudiants ont participé à l’étude ?"
   ]
  },
  {
   "cell_type": "code",
   "execution_count": 160,
   "id": "5b9f0248-322e-4fe6-a13f-1e679e5a7990",
   "metadata": {},
   "outputs": [
    {
     "data": {
      "text/plain": [
       "1002"
      ]
     },
     "execution_count": 160,
     "metadata": {},
     "output_type": "execute_result"
    }
   ],
   "source": [
    "data.shape[0]"
   ]
  },
  {
   "cell_type": "markdown",
   "id": "c00dc797-a17e-41cd-8d84-0a6387b32842",
   "metadata": {},
   "source": [
    "c. Existe-t-il des doublons (étudiants) ?"
   ]
  },
  {
   "cell_type": "code",
   "execution_count": 161,
   "id": "857c6629-db2b-4a2c-a094-167a71c4743d",
   "metadata": {},
   "outputs": [
    {
     "name": "stdout",
     "output_type": "stream",
     "text": [
      "NON\n"
     ]
    }
   ],
   "source": [
    "if True in data.duplicated():\n",
    "    print(\"OUI\")\n",
    "else:\n",
    "    print(\"NON\")\n"
   ]
  },
  {
   "cell_type": "markdown",
   "id": "61fcba82-d2fe-4503-8072-d7952f67e6d4",
   "metadata": {},
   "source": [
    "d. Donner les statistiques de base des scores (max, min, moyenne, mediane)"
   ]
  },
  {
   "cell_type": "code",
   "execution_count": 162,
   "id": "65da43df-432f-40e5-94fd-61670a0533b0",
   "metadata": {},
   "outputs": [
    {
     "name": "stdout",
     "output_type": "stream",
     "text": [
      " max : math score       100.0\n",
      "reading score    100.0\n",
      "writing score    100.0\n",
      "average_score    100.0\n",
      "Name: max, dtype: float64\n",
      " min : math score        0.0\n",
      "reading score    17.0\n",
      "writing score    10.0\n",
      "average_score     9.0\n",
      "Name: min, dtype: float64\n",
      " moyenne : math score       66.110778\n",
      "reading score    69.185814\n",
      "writing score    68.071928\n",
      "average_score    67.795077\n",
      "Name: mean, dtype: float64\n",
      " mediane : math score       66.000000\n",
      "reading score    70.000000\n",
      "writing score    69.000000\n",
      "average_score    68.333333\n",
      "Name: 50%, dtype: float64\n"
     ]
    }
   ],
   "source": [
    "stats = data.describe()\n",
    "\n",
    "print(f\" max : {stats.loc['max']}\")\n",
    "print(f\" min : {stats.loc['min']}\")\n",
    "print(f\" moyenne : {stats.loc['mean']}\")\n",
    "print(f\" mediane : {stats.loc['50%']}\")\n",
    "\n"
   ]
  },
  {
   "cell_type": "markdown",
   "id": "f005579c",
   "metadata": {},
   "source": [
    "### 🔹 2. Détection de valeurs manquantes ou incohérentes"
   ]
  },
  {
   "cell_type": "markdown",
   "id": "f187126b-820e-45a0-b19c-6a425b9bed50",
   "metadata": {},
   "source": [
    "a. Nombre de valeurs manquantes par cellule?"
   ]
  },
  {
   "cell_type": "code",
   "execution_count": 163,
   "id": "8a00b955-9b7f-49ca-a93c-e481beaa4f41",
   "metadata": {},
   "outputs": [
    {
     "data": {
      "text/plain": [
       "gender                         1\n",
       "race/ethnicity                 2\n",
       "parental level of education    0\n",
       "lunch                          0\n",
       "test preparation course        2\n",
       "math score                     0\n",
       "reading score                  1\n",
       "writing score                  1\n",
       "average_score                  0\n",
       "dtype: int64"
      ]
     },
     "execution_count": 163,
     "metadata": {},
     "output_type": "execute_result"
    }
   ],
   "source": [
    "data.isna().sum()"
   ]
  },
  {
   "cell_type": "markdown",
   "id": "2aa19a2f-f8ea-4942-bdaf-c099bcfff841",
   "metadata": {},
   "source": [
    "b. Combien d'étudiants ont un score moyen < 40 ?"
   ]
  },
  {
   "cell_type": "code",
   "execution_count": 164,
   "id": "c1700484-9122-43a0-91a5-dd669e5ecdf6",
   "metadata": {},
   "outputs": [
    {
     "data": {
      "text/plain": [
       "30"
      ]
     },
     "execution_count": 164,
     "metadata": {},
     "output_type": "execute_result"
    }
   ],
   "source": [
    "data[data['average_score']<40].shape[0]"
   ]
  },
  {
   "cell_type": "markdown",
   "id": "d251f34a-88cc-4555-8f9d-ffcf6c8d4229",
   "metadata": {},
   "source": [
    "c. Valeurs aberrantes pour le score moyen ? (utiliser visualisation et la Méthode de l’écart interquartile [à lire])"
   ]
  },
  {
   "cell_type": "code",
   "execution_count": 165,
   "id": "f9fd62bb-2825-44be-bd8e-d9a5457f867d",
   "metadata": {},
   "outputs": [
    {
     "data": {
      "image/png": "[encoded data removed]",
      "text/plain": [
       "<Figure size 640x480 with 1 Axes>"
      ]
     },
     "metadata": {},
     "output_type": "display_data"
    }
   ],
   "source": [
    "import numpy as np\n",
    "import seaborn as sns\n",
    "import matplotlib.pyplot as plt\n",
    "\n",
    "\n",
    "def marquer_valeurs_aberrantes(df, colonne, seuil=1.5):\n",
    "    # q1 = df[colonne].quantile(0.25)\n",
    "    # q3 = df[colonne].quantile(0.75)\n",
    "    q1 = np.percentile(df[colonne], 25)\n",
    "    q3 = np.percentile(df[colonne], 75)\n",
    "    iqr = q3 - q1\n",
    "    limite_basse = q1 - seuil * iqr\n",
    "    limite_haute = q3 + seuil * iqr\n",
    "    \n",
    "    # plt.figure(figsize=(10, 6))\n",
    "    sns.scatterplot(x=df.index, y=df[colonne], \n",
    "                   hue=((df[colonne] < limite_basse) | (df[colonne] > limite_haute)),\n",
    "                   palette={True: 'red', False: 'blue'})\n",
    "    plt.axhline(limite_basse, color='r', linestyle='--', alpha=0.5)\n",
    "    plt.axhline(limite_haute, color='r', linestyle='--', alpha=0.5)\n",
    "    plt.title(f'Valeurs aberrantes dans {colonne}')\n",
    "    plt.legend(title='Valeur aberrante')\n",
    "    plt.show()\n",
    "\n",
    "# Exemple d'utilisation\n",
    "marquer_valeurs_aberrantes(data, 'average_score')"
   ]
  },
  {
   "cell_type": "markdown",
   "id": "a94155c6",
   "metadata": {},
   "source": [
    "### 🔹 3. Visualisation des données"
   ]
  },
  {
   "cell_type": "markdown",
   "id": "a77e022c-c5ab-4c5c-872f-304bf7423548",
   "metadata": {},
   "source": [
    "a. Histogramme des notes moyennes"
   ]
  },
  {
   "cell_type": "code",
   "execution_count": 166,
   "id": "e26fd12e-eaac-4d76-afd5-0e02bb1f7362",
   "metadata": {},
   "outputs": [
    {
     "data": {
      "image/png": "[encoded data removed]",
      "text/plain": [
       "<Figure size 640x480 with 1 Axes>"
      ]
     },
     "metadata": {},
     "output_type": "display_data"
    }
   ],
   "source": [
    "plt.hist(data['average_score'])\n",
    "plt.show()"
   ]
  },
  {
   "cell_type": "markdown",
   "id": "6250b94b-b79d-4be7-ac57-036773e69a3b",
   "metadata": {},
   "source": [
    "b. Peut-on voir sur cet histogramme des valeurs abérrantes?"
   ]
  },
  {
   "cell_type": "code",
   "execution_count": 167,
   "id": "3e0c93eb-d3e6-4bdd-b316-eb0c764612b9",
   "metadata": {},
   "outputs": [
    {
     "data": {
      "image/png": "[encoded data removed]",
      "text/plain": [
       "<Figure size 640x480 with 1 Axes>"
      ]
     },
     "metadata": {},
     "output_type": "display_data"
    }
   ],
   "source": [
    "def marquer_valeurs_aberrantes_histogramme(df, colonne, seuil=1.5):\n",
    "    # q1 = df[colonne].quantile(0.25)\n",
    "    # q3 = df[colonne].quantile(0.75)\n",
    "    q1 = np.percentile(df[colonne], 25)\n",
    "    q3 = np.percentile(df[colonne], 75)\n",
    "    iqr = q3 - q1\n",
    "    limite_basse = q1 - seuil * iqr\n",
    "    limite_haute = q3 + seuil * iqr\n",
    "    \n",
    "    # plt.figure(figsize=(10, 6))\n",
    "    plt.hist(df[colonne], bins=5, color='blue', edgecolor='black', alpha=0.7, \n",
    "             label=f'Valeurs normales (n={len(df[colonne])})')\n",
    "    \n",
    "    plt.axvline(limite_basse, color='r', linestyle='--', alpha=0.5)\n",
    "    plt.axvline(limite_haute, color='r', linestyle='--', alpha=0.5)\n",
    "    plt.title(f'Valeurs aberrantes dans {colonne}')\n",
    "    plt.legend(title='Valeur aberrante')\n",
    "    plt.show()\n",
    "\n",
    "marquer_valeurs_aberrantes_histogramme(data, 'average_score')"
   ]
  },
  {
   "cell_type": "markdown",
   "id": "70988a94-9077-44c6-b868-514de4d782bb",
   "metadata": {},
   "source": [
    "c. Faire une boxplot des moyennes par genre."
   ]
  },
  {
   "cell_type": "code",
   "execution_count": 168,
   "id": "ad70b902-cdfe-4a05-a8b4-907446c854dd",
   "metadata": {},
   "outputs": [
    {
     "data": {
      "image/png": "[encoded data removed]",
      "text/plain": [
       "<Figure size 640x480 with 1 Axes>"
      ]
     },
     "metadata": {},
     "output_type": "display_data"
    }
   ],
   "source": [
    "sns.boxplot(x='gender', y='average_score', data=data , palette='Set3', hue='gender')\n",
    "plt.xlabel('Genre')\n",
    "plt.ylabel('Note moyenne')\n",
    "\n",
    "plt.figtext(0.82, 0.15, \n",
    "           f\"Nombre d'étudiants:\\n\"\n",
    "           f\"Femmes: {data[data['gender']=='female'].shape[0]}\\n\"\n",
    "           f\"Hommes: {data[data['gender']=='male'].shape[0]}\",\n",
    "           bbox=dict(facecolor='white', alpha=0.5))\n",
    "\n",
    "plt.show()"
   ]
  },
  {
   "cell_type": "markdown",
   "id": "92e0f668-9bc1-4630-8cf8-918b55f535e2",
   "metadata": {},
   "source": [
    "d. Est-ce qu'il y a une différence nette des moyennes de genre sur ce boxplot? "
   ]
  },
  {
   "cell_type": "code",
   "execution_count": null,
   "id": "449d79c8-495b-41b2-b1ab-11920145f13d",
   "metadata": {},
   "outputs": [],
   "source": []
  },
  {
   "cell_type": "markdown",
   "id": "394c530d-fc9a-4e5e-b2d0-b9afd6f6502c",
   "metadata": {},
   "source": [
    "e. Barplot moyenne par niveau d'éducation des parents? Peut-on avoir des conclusions sur cette variable?"
   ]
  },
  {
   "cell_type": "code",
   "execution_count": 169,
   "id": "705a3fab-9db7-4cec-87a9-05794f78d3b4",
   "metadata": {},
   "outputs": [
    {
     "data": {
      "image/png": "[encoded data removed]",
      "text/plain": [
       "<Figure size 2000x600 with 1 Axes>"
      ]
     },
     "metadata": {},
     "output_type": "display_data"
    }
   ],
   "source": [
    "plt.figure(figsize=(20, 6))\n",
    "sns.barplot(x='parental level of education', y='average_score', data=data.sort_values('average_score', axis=0))\n",
    "plt.ylabel('Note moyenne')\n",
    "plt.xlabel('Niveau d\\'éducation des parents')\n",
    "plt.show()"
   ]
  },
  {
   "cell_type": "markdown",
   "id": "6cb70788-9522-46a8-8d33-240c4be19e54",
   "metadata": {},
   "source": [
    "d. Faire le Heatmap de corrélation. Quelle est la variable la plus correlée avec la note moyenne?"
   ]
  },
  {
   "cell_type": "code",
   "execution_count": 170,
   "id": "a6edb87c-d20b-4dc6-b664-3f7eadbd8a66",
   "metadata": {},
   "outputs": [
    {
     "data": {
      "image/png": "[encoded data removed]",
      "text/plain": [
       "<Figure size 640x480 with 2 Axes>"
      ]
     },
     "metadata": {},
     "output_type": "display_data"
    },
    {
     "name": "stdout",
     "output_type": "stream",
     "text": [
      "Correlation sorted by 'average_score':\n",
      "average_score    1.000000\n",
      "reading score    0.970364\n",
      "writing score    0.965704\n",
      "math score       0.918788\n",
      "Name: average_score, dtype: float64\n"
     ]
    }
   ],
   "source": [
    "list_header_numeric = [\"math score\", \"reading score\", \"writing score\", \"average_score\"]\n",
    "correlation = data[list_header_numeric].corr()\n",
    "\n",
    "# Heatmap\n",
    "sns.heatmap(correlation, annot=True, cmap='coolwarm', center=0)\n",
    "plt.title('Matrice de corrélation entre les notes')\n",
    "plt.show()\n",
    "\n",
    "# Sorted correlations - example: sort by average_score\n",
    "print(\"Correlation sorted by 'average_score':\")\n",
    "print(correlation['average_score'].sort_values(ascending=False))"
   ]
  },
  {
   "cell_type": "markdown",
   "id": "ea48613f",
   "metadata": {},
   "source": [
    "### 🔹 4. Nettoyage des données"
   ]
  },
  {
   "cell_type": "markdown",
   "id": "e5c61e36-7185-467b-b057-6b3ecc46262b",
   "metadata": {},
   "source": [
    "a. Imputation des NaN (remplacer les NaN par la moyenne de la variable correspondante)"
   ]
  },
  {
   "cell_type": "code",
   "execution_count": 171,
   "id": "b1861830-d069-4790-9470-b74c88da54af",
   "metadata": {},
   "outputs": [
    {
     "data": {
      "text/plain": [
       "gender                         0\n",
       "race/ethnicity                 0\n",
       "parental level of education    0\n",
       "lunch                          0\n",
       "test preparation course        0\n",
       "math score                     0\n",
       "reading score                  0\n",
       "writing score                  0\n",
       "average_score                  0\n",
       "dtype: int64"
      ]
     },
     "execution_count": 171,
     "metadata": {},
     "output_type": "execute_result"
    }
   ],
   "source": [
    "data['gender'] = data['gender'].fillna(data['gender'].mode()[0])\n",
    "data['race/ethnicity'] = data['race/ethnicity'].fillna(data['race/ethnicity'].mode()[0])\n",
    "data['parental level of education'] = data['parental level of education'].fillna(data['parental level of education'].mode()[0])\n",
    "data['lunch'] = data['lunch'].fillna(data['lunch'].mode()[0])\n",
    "data['test preparation course'] = data['test preparation course'].fillna(data['test preparation course'].mode()[0])\n",
    "data['math score'] = data['math score'].fillna(data['math score'].mean())\n",
    "data['reading score'] = data['reading score'].fillna(data['reading score'].mean())\n",
    "data['writing score'] = data['writing score'].fillna(data['writing score'].mean())\n",
    "data.isnull().sum()\n"
   ]
  },
  {
   "cell_type": "markdown",
   "id": "97e2fa5d-d425-4864-80f5-d2dd447bd009",
   "metadata": {},
   "source": [
    "b. Suppression des colonnes inutiles ( Identifiez les colonnes qui sont redondantes, constantes ou sans valeur explicative[aucune corrélation] )"
   ]
  },
  {
   "cell_type": "code",
   "execution_count": null,
   "id": "339da701-d1be-4c76-883b-a14b6ab6d057",
   "metadata": {},
   "outputs": [],
   "source": []
  },
  {
   "cell_type": "markdown",
   "id": "6b98bddd-e203-4045-be1a-cedaf624a573",
   "metadata": {},
   "source": [
    "c. Sélection des colonnes utiles"
   ]
  },
  {
   "cell_type": "code",
   "execution_count": null,
   "id": "7663ece0-c467-4db8-a154-8e33c1cdf93a",
   "metadata": {},
   "outputs": [],
   "source": []
  },
  {
   "cell_type": "markdown",
   "id": "d69fb340",
   "metadata": {},
   "source": [
    "### 🔹 5. Encodage"
   ]
  },
  {
   "cell_type": "markdown",
   "id": "078f99de-9267-427c-80c9-ff9e0165bd66",
   "metadata": {},
   "source": [
    "a. Encodage de `gender` ( rendre en numérqieu de façon catégorielle )"
   ]
  },
  {
   "cell_type": "code",
   "execution_count": 172,
   "id": "ac87cfba-7378-4883-81a6-e0494359f5ab",
   "metadata": {},
   "outputs": [],
   "source": [
    "## encodage de gender\n",
    "data['gender'] = data['gender'].map({'female': 0, 'male': 1})"
   ]
  },
  {
   "cell_type": "markdown",
   "id": "f0b75d42-6695-444f-82ba-37d873bae587",
   "metadata": {},
   "source": [
    "b. Encodage one-hot de `parental_level_of_education`"
   ]
  },
  {
   "cell_type": "code",
   "execution_count": 173,
   "id": "258f268d-f130-4e04-af6c-907c70b49dc8",
   "metadata": {},
   "outputs": [],
   "source": [
    "# from sklearn.preprocessing import OneHotEncoder\n",
    "# from sklearn.compose import ColumnTransformer\n",
    "# import pandas as pd\n",
    "\n",
    "# # Liste des colonnes catégorielles à encoder\n",
    "# categorical_features = ['parental level of education']\n",
    "\n",
    "# # Création de l'encodeur\n",
    "# encoder = OneHotEncoder(drop='first', sparse_output=False) \n",
    "\n",
    "# # Application de l'encodage\n",
    "# encoded_data = encoder.fit_transform(data[categorical_features])\n",
    "\n",
    "# # Transformation en DataFrame pour lisibilité\n",
    "# encoded_df = pd.DataFrame(encoded_data, columns=encoder.get_feature_names_out(categorical_features))\n",
    "\n",
    "# # Fusionner avec le dataset original (en retirant la colonne d'origine)\n",
    "# data = data.drop(columns=categorical_features)\n",
    "# data = pd.concat([data.reset_index(drop=True), encoded_df.reset_index(drop=True)], axis=1)\n",
    "\n",
    "# # Affichage final\n",
    "# print(data.head())\n"
   ]
  },
  {
   "cell_type": "markdown",
   "id": "f0acc438-11ae-41b4-895a-ee861307e312",
   "metadata": {},
   "source": [
    "c. Est-il utilise pour l'encodage de `parental_level_of_education` de faire un Regroupement des modalités ? "
   ]
  },
  {
   "cell_type": "code",
   "execution_count": 174,
   "id": "42804ca4-38aa-488e-b16c-65a96d6570ac",
   "metadata": {},
   "outputs": [
    {
     "ename": "NameError",
     "evalue": "name 'Non' is not defined",
     "output_type": "error",
     "traceback": [
      "\u001b[31m---------------------------------------------------------------------------\u001b[39m",
      "\u001b[31mNameError\u001b[39m                                 Traceback (most recent call last)",
      "\u001b[36mCell\u001b[39m\u001b[36m \u001b[39m\u001b[32mIn[174]\u001b[39m\u001b[32m, line 1\u001b[39m\n\u001b[32m----> \u001b[39m\u001b[32m1\u001b[39m \u001b[43mNon\u001b[49m\n",
      "\u001b[31mNameError\u001b[39m: name 'Non' is not defined"
     ]
    }
   ],
   "source": [
    "Non"
   ]
  },
  {
   "cell_type": "markdown",
   "id": "fc06c457",
   "metadata": {},
   "source": [
    "### 🔹 6. Préparation finale"
   ]
  },
  {
   "cell_type": "markdown",
   "id": "ad1d55d7-38a4-431e-8747-9527557e60b3",
   "metadata": {},
   "source": [
    "a. Créer X (features) et y (cible: average_score)"
   ]
  },
  {
   "cell_type": "code",
   "execution_count": null,
   "id": "66f4a7a2-6f3a-4d68-8992-fd4e2d2f92c7",
   "metadata": {},
   "outputs": [
    {
     "name": "stdout",
     "output_type": "stream",
     "text": [
      "   race/ethnicity  lunch  test preparation course\n",
      "0               1      1                        1\n",
      "1               2      1                        0\n",
      "2               1      1                        1\n",
      "3               0      0                        1\n",
      "4               2      1                        1\n"
     ]
    }
   ],
   "source": [
    "# from sklearn.preprocessing import LabelEncoder\n",
    "# X =  data.drop(columns=['average_score'], axis=1)\n",
    "# y = data['average_score']\n",
    "\n",
    "# # Initialisation du label encoder\n",
    "# le = LabelEncoder()\n",
    "\n",
    "# categorical_cols = ['race/ethnicity', 'lunch', 'test preparation course']\n",
    "\n",
    "# for col in categorical_cols:\n",
    "#     le = LabelEncoder()\n",
    "#     data[col] = le.fit_transform(data[col])\n",
    "\n",
    "\n",
    "# print(data[['race/ethnicity', 'lunch', 'test preparation course']].head())\n"
   ]
  },
  {
   "cell_type": "markdown",
   "id": "4ba1a502-e030-4d4d-8d5d-2a4485358c4e",
   "metadata": {},
   "source": [
    "b. Vérifier que X est bien numérique"
   ]
  },
  {
   "cell_type": "code",
   "execution_count": null,
   "id": "57f5d0d3-275f-488c-bc4d-06e39d9bae11",
   "metadata": {},
   "outputs": [
    {
     "data": {
      "text/plain": [
       "Index([], dtype='object')"
      ]
     },
     "execution_count": 73,
     "metadata": {},
     "output_type": "execute_result"
    }
   ],
   "source": [
    "# vérifier que X est numérique\n",
    "# data.select_dtypes(exclude=['int64', 'float64']).columns"
   ]
  },
  {
   "cell_type": "markdown",
   "id": "fa4e66cd-fdcd-44c6-ab96-afeb00d0577e",
   "metadata": {},
   "source": [
    "c. Sauvegarder X et y"
   ]
  },
  {
   "cell_type": "code",
   "execution_count": null,
   "id": "040f61de-e572-424e-92c7-c80cca29466c",
   "metadata": {},
   "outputs": [
    {
     "data": {
      "text/html": [
       "<div>\n",
       "<style scoped>\n",
       "    .dataframe tbody tr th:only-of-type {\n",
       "        vertical-align: middle;\n",
       "    }\n",
       "\n",
       "    .dataframe tbody tr th {\n",
       "        vertical-align: top;\n",
       "    }\n",
       "\n",
       "    .dataframe thead th {\n",
       "        text-align: right;\n",
       "    }\n",
       "</style>\n",
       "<table border=\"1\" class=\"dataframe\">\n",
       "  <thead>\n",
       "    <tr style=\"text-align: right;\">\n",
       "      <th></th>\n",
       "      <th>gender</th>\n",
       "      <th>race/ethnicity</th>\n",
       "      <th>lunch</th>\n",
       "      <th>test preparation course</th>\n",
       "      <th>math score</th>\n",
       "      <th>reading score</th>\n",
       "      <th>writing score</th>\n",
       "      <th>parental level of education_bachelor's degree</th>\n",
       "      <th>parental level of education_high school</th>\n",
       "      <th>parental level of education_master's degree</th>\n",
       "      <th>parental level of education_some college</th>\n",
       "      <th>parental level of education_some high school</th>\n",
       "      <th>race/ethnicity_encoded</th>\n",
       "    </tr>\n",
       "  </thead>\n",
       "  <tbody>\n",
       "    <tr>\n",
       "      <th>0</th>\n",
       "      <td>0</td>\n",
       "      <td>1</td>\n",
       "      <td>1</td>\n",
       "      <td>1</td>\n",
       "      <td>72</td>\n",
       "      <td>72.000000</td>\n",
       "      <td>74.000000</td>\n",
       "      <td>1.0</td>\n",
       "      <td>0.0</td>\n",
       "      <td>0.0</td>\n",
       "      <td>0.0</td>\n",
       "      <td>0.0</td>\n",
       "      <td>1</td>\n",
       "    </tr>\n",
       "    <tr>\n",
       "      <th>1</th>\n",
       "      <td>0</td>\n",
       "      <td>2</td>\n",
       "      <td>1</td>\n",
       "      <td>0</td>\n",
       "      <td>69</td>\n",
       "      <td>90.000000</td>\n",
       "      <td>88.000000</td>\n",
       "      <td>0.0</td>\n",
       "      <td>0.0</td>\n",
       "      <td>0.0</td>\n",
       "      <td>1.0</td>\n",
       "      <td>0.0</td>\n",
       "      <td>2</td>\n",
       "    </tr>\n",
       "    <tr>\n",
       "      <th>2</th>\n",
       "      <td>0</td>\n",
       "      <td>1</td>\n",
       "      <td>1</td>\n",
       "      <td>1</td>\n",
       "      <td>90</td>\n",
       "      <td>95.000000</td>\n",
       "      <td>93.000000</td>\n",
       "      <td>0.0</td>\n",
       "      <td>0.0</td>\n",
       "      <td>1.0</td>\n",
       "      <td>0.0</td>\n",
       "      <td>0.0</td>\n",
       "      <td>1</td>\n",
       "    </tr>\n",
       "    <tr>\n",
       "      <th>3</th>\n",
       "      <td>1</td>\n",
       "      <td>0</td>\n",
       "      <td>0</td>\n",
       "      <td>1</td>\n",
       "      <td>47</td>\n",
       "      <td>57.000000</td>\n",
       "      <td>44.000000</td>\n",
       "      <td>0.0</td>\n",
       "      <td>0.0</td>\n",
       "      <td>0.0</td>\n",
       "      <td>0.0</td>\n",
       "      <td>0.0</td>\n",
       "      <td>0</td>\n",
       "    </tr>\n",
       "    <tr>\n",
       "      <th>4</th>\n",
       "      <td>1</td>\n",
       "      <td>2</td>\n",
       "      <td>1</td>\n",
       "      <td>1</td>\n",
       "      <td>76</td>\n",
       "      <td>78.000000</td>\n",
       "      <td>75.000000</td>\n",
       "      <td>0.0</td>\n",
       "      <td>0.0</td>\n",
       "      <td>0.0</td>\n",
       "      <td>1.0</td>\n",
       "      <td>0.0</td>\n",
       "      <td>2</td>\n",
       "    </tr>\n",
       "    <tr>\n",
       "      <th>...</th>\n",
       "      <td>...</td>\n",
       "      <td>...</td>\n",
       "      <td>...</td>\n",
       "      <td>...</td>\n",
       "      <td>...</td>\n",
       "      <td>...</td>\n",
       "      <td>...</td>\n",
       "      <td>...</td>\n",
       "      <td>...</td>\n",
       "      <td>...</td>\n",
       "      <td>...</td>\n",
       "      <td>...</td>\n",
       "      <td>...</td>\n",
       "    </tr>\n",
       "    <tr>\n",
       "      <th>997</th>\n",
       "      <td>0</td>\n",
       "      <td>2</td>\n",
       "      <td>0</td>\n",
       "      <td>0</td>\n",
       "      <td>59</td>\n",
       "      <td>71.000000</td>\n",
       "      <td>65.000000</td>\n",
       "      <td>0.0</td>\n",
       "      <td>1.0</td>\n",
       "      <td>0.0</td>\n",
       "      <td>0.0</td>\n",
       "      <td>0.0</td>\n",
       "      <td>2</td>\n",
       "    </tr>\n",
       "    <tr>\n",
       "      <th>998</th>\n",
       "      <td>0</td>\n",
       "      <td>3</td>\n",
       "      <td>1</td>\n",
       "      <td>0</td>\n",
       "      <td>68</td>\n",
       "      <td>78.000000</td>\n",
       "      <td>77.000000</td>\n",
       "      <td>0.0</td>\n",
       "      <td>0.0</td>\n",
       "      <td>0.0</td>\n",
       "      <td>1.0</td>\n",
       "      <td>0.0</td>\n",
       "      <td>3</td>\n",
       "    </tr>\n",
       "    <tr>\n",
       "      <th>999</th>\n",
       "      <td>0</td>\n",
       "      <td>3</td>\n",
       "      <td>0</td>\n",
       "      <td>1</td>\n",
       "      <td>77</td>\n",
       "      <td>86.000000</td>\n",
       "      <td>86.000000</td>\n",
       "      <td>0.0</td>\n",
       "      <td>0.0</td>\n",
       "      <td>0.0</td>\n",
       "      <td>1.0</td>\n",
       "      <td>0.0</td>\n",
       "      <td>3</td>\n",
       "    </tr>\n",
       "    <tr>\n",
       "      <th>1000</th>\n",
       "      <td>0</td>\n",
       "      <td>2</td>\n",
       "      <td>0</td>\n",
       "      <td>1</td>\n",
       "      <td>77</td>\n",
       "      <td>86.000000</td>\n",
       "      <td>86.000000</td>\n",
       "      <td>0.0</td>\n",
       "      <td>0.0</td>\n",
       "      <td>0.0</td>\n",
       "      <td>1.0</td>\n",
       "      <td>0.0</td>\n",
       "      <td>2</td>\n",
       "    </tr>\n",
       "    <tr>\n",
       "      <th>1001</th>\n",
       "      <td>0</td>\n",
       "      <td>2</td>\n",
       "      <td>0</td>\n",
       "      <td>1</td>\n",
       "      <td>77</td>\n",
       "      <td>69.185814</td>\n",
       "      <td>68.071928</td>\n",
       "      <td>0.0</td>\n",
       "      <td>0.0</td>\n",
       "      <td>0.0</td>\n",
       "      <td>1.0</td>\n",
       "      <td>0.0</td>\n",
       "      <td>2</td>\n",
       "    </tr>\n",
       "  </tbody>\n",
       "</table>\n",
       "<p>1002 rows × 13 columns</p>\n",
       "</div>"
      ],
      "text/plain": [
       "      gender  race/ethnicity  lunch  test preparation course  math score  \\\n",
       "0          0               1      1                        1          72   \n",
       "1          0               2      1                        0          69   \n",
       "2          0               1      1                        1          90   \n",
       "3          1               0      0                        1          47   \n",
       "4          1               2      1                        1          76   \n",
       "...      ...             ...    ...                      ...         ...   \n",
       "997        0               2      0                        0          59   \n",
       "998        0               3      1                        0          68   \n",
       "999        0               3      0                        1          77   \n",
       "1000       0               2      0                        1          77   \n",
       "1001       0               2      0                        1          77   \n",
       "\n",
       "      reading score  writing score  \\\n",
       "0         72.000000      74.000000   \n",
       "1         90.000000      88.000000   \n",
       "2         95.000000      93.000000   \n",
       "3         57.000000      44.000000   \n",
       "4         78.000000      75.000000   \n",
       "...             ...            ...   \n",
       "997       71.000000      65.000000   \n",
       "998       78.000000      77.000000   \n",
       "999       86.000000      86.000000   \n",
       "1000      86.000000      86.000000   \n",
       "1001      69.185814      68.071928   \n",
       "\n",
       "      parental level of education_bachelor's degree  \\\n",
       "0                                               1.0   \n",
       "1                                               0.0   \n",
       "2                                               0.0   \n",
       "3                                               0.0   \n",
       "4                                               0.0   \n",
       "...                                             ...   \n",
       "997                                             0.0   \n",
       "998                                             0.0   \n",
       "999                                             0.0   \n",
       "1000                                            0.0   \n",
       "1001                                            0.0   \n",
       "\n",
       "      parental level of education_high school  \\\n",
       "0                                         0.0   \n",
       "1                                         0.0   \n",
       "2                                         0.0   \n",
       "3                                         0.0   \n",
       "4                                         0.0   \n",
       "...                                       ...   \n",
       "997                                       1.0   \n",
       "998                                       0.0   \n",
       "999                                       0.0   \n",
       "1000                                      0.0   \n",
       "1001                                      0.0   \n",
       "\n",
       "      parental level of education_master's degree  \\\n",
       "0                                             0.0   \n",
       "1                                             0.0   \n",
       "2                                             1.0   \n",
       "3                                             0.0   \n",
       "4                                             0.0   \n",
       "...                                           ...   \n",
       "997                                           0.0   \n",
       "998                                           0.0   \n",
       "999                                           0.0   \n",
       "1000                                          0.0   \n",
       "1001                                          0.0   \n",
       "\n",
       "      parental level of education_some college  \\\n",
       "0                                          0.0   \n",
       "1                                          1.0   \n",
       "2                                          0.0   \n",
       "3                                          0.0   \n",
       "4                                          1.0   \n",
       "...                                        ...   \n",
       "997                                        0.0   \n",
       "998                                        1.0   \n",
       "999                                        1.0   \n",
       "1000                                       1.0   \n",
       "1001                                       1.0   \n",
       "\n",
       "      parental level of education_some high school  race/ethnicity_encoded  \n",
       "0                                              0.0                       1  \n",
       "1                                              0.0                       2  \n",
       "2                                              0.0                       1  \n",
       "3                                              0.0                       0  \n",
       "4                                              0.0                       2  \n",
       "...                                            ...                     ...  \n",
       "997                                            0.0                       2  \n",
       "998                                            0.0                       3  \n",
       "999                                            0.0                       3  \n",
       "1000                                           0.0                       2  \n",
       "1001                                           0.0                       2  \n",
       "\n",
       "[1002 rows x 13 columns]"
      ]
     },
     "execution_count": 150,
     "metadata": {},
     "output_type": "execute_result"
    }
   ],
   "source": [
    "X"
   ]
  },
  {
   "cell_type": "markdown",
   "id": "fbdcc075",
   "metadata": {},
   "source": [
    "## 💡 Bonus"
   ]
  },
  {
   "cell_type": "code",
   "execution_count": null,
   "id": "a714cead",
   "metadata": {},
   "outputs": [],
   "source": [
    "from sklearn.preprocessing import LabelEncoder, OneHotEncoder\n",
    "import pandas as pd\n",
    "\n",
    "def preprocess_students_data(df, target_column, type_encodage='label-encodeur', categorical_cols=[]):\n",
    "    # Séparation X et y\n",
    "    X = df.drop(columns=[target_column])\n",
    "    y = df[target_column]\n",
    "\n",
    "    if categorical_cols is None:\n",
    "        categorical_cols = X.select_dtypes(include=['object', 'category']).columns.tolist()\n",
    "\n",
    "    if type_encodage == 'label-encodeur':\n",
    "        # Label encoding sur chaque colonne catégorielle\n",
    "        for col in categorical_cols:\n",
    "            le = LabelEncoder()\n",
    "            X[col] = le.fit_transform(X[col])\n",
    "\n",
    "    elif type_encodage == 'one-hot-encoding':\n",
    "        # One-hot encoding\n",
    "        encoder = OneHotEncoder(drop='first', sparse_output=False)\n",
    "\n",
    "        # Encoder uniquement les colonnes catégorielles\n",
    "        encoded_data = encoder.fit_transform(X[categorical_cols])\n",
    "\n",
    "        # Colonnes encodées avec noms\n",
    "        encoded_df = pd.DataFrame(encoded_data, columns=encoder.get_feature_names_out(categorical_cols), index=X.index)\n",
    "\n",
    "        # Supprimer colonnes originales catégorielles\n",
    "        X = X.drop(columns=categorical_cols)\n",
    "\n",
    "        # Ajouter colonnes encodées\n",
    "        X = pd.concat([X, encoded_df], axis=1)\n",
    "\n",
    "    else:\n",
    "        raise ValueError(\"type_encodage doit être 'label-encodeur' ou 'one-hot-encoding'\")\n",
    "\n",
    "    return X, y\n",
    "\n",
    "# data\n",
    "X1 , y1 = preprocess_students_data(data, 'average_score', 'label-encodeur',['gender','race/ethnicity','parental level of education','lunch','test preparation course'])"
   ]
  },
  {
   "cell_type": "code",
   "execution_count": null,
   "id": "a3cf8ddc",
   "metadata": {},
   "outputs": [
    {
     "data": {
      "text/html": [
       "<div>\n",
       "<style scoped>\n",
       "    .dataframe tbody tr th:only-of-type {\n",
       "        vertical-align: middle;\n",
       "    }\n",
       "\n",
       "    .dataframe tbody tr th {\n",
       "        vertical-align: top;\n",
       "    }\n",
       "\n",
       "    .dataframe thead th {\n",
       "        text-align: right;\n",
       "    }\n",
       "</style>\n",
       "<table border=\"1\" class=\"dataframe\">\n",
       "  <thead>\n",
       "    <tr style=\"text-align: right;\">\n",
       "      <th></th>\n",
       "      <th>math score</th>\n",
       "      <th>reading score</th>\n",
       "      <th>writing score</th>\n",
       "      <th>gender_1</th>\n",
       "      <th>race/ethnicity_group B</th>\n",
       "      <th>race/ethnicity_group C</th>\n",
       "      <th>race/ethnicity_group D</th>\n",
       "      <th>race/ethnicity_group E</th>\n",
       "      <th>parental level of education_bachelor's degree</th>\n",
       "      <th>parental level of education_high school</th>\n",
       "      <th>parental level of education_master's degree</th>\n",
       "      <th>parental level of education_some college</th>\n",
       "      <th>parental level of education_some high school</th>\n",
       "      <th>lunch_standard</th>\n",
       "      <th>test preparation course_none</th>\n",
       "    </tr>\n",
       "  </thead>\n",
       "  <tbody>\n",
       "    <tr>\n",
       "      <th>0</th>\n",
       "      <td>72</td>\n",
       "      <td>72.000000</td>\n",
       "      <td>74.000000</td>\n",
       "      <td>0.0</td>\n",
       "      <td>1.0</td>\n",
       "      <td>0.0</td>\n",
       "      <td>0.0</td>\n",
       "      <td>0.0</td>\n",
       "      <td>1.0</td>\n",
       "      <td>0.0</td>\n",
       "      <td>0.0</td>\n",
       "      <td>0.0</td>\n",
       "      <td>0.0</td>\n",
       "      <td>1.0</td>\n",
       "      <td>1.0</td>\n",
       "    </tr>\n",
       "    <tr>\n",
       "      <th>1</th>\n",
       "      <td>69</td>\n",
       "      <td>90.000000</td>\n",
       "      <td>88.000000</td>\n",
       "      <td>0.0</td>\n",
       "      <td>0.0</td>\n",
       "      <td>1.0</td>\n",
       "      <td>0.0</td>\n",
       "      <td>0.0</td>\n",
       "      <td>0.0</td>\n",
       "      <td>0.0</td>\n",
       "      <td>0.0</td>\n",
       "      <td>1.0</td>\n",
       "      <td>0.0</td>\n",
       "      <td>1.0</td>\n",
       "      <td>0.0</td>\n",
       "    </tr>\n",
       "    <tr>\n",
       "      <th>2</th>\n",
       "      <td>90</td>\n",
       "      <td>95.000000</td>\n",
       "      <td>93.000000</td>\n",
       "      <td>0.0</td>\n",
       "      <td>1.0</td>\n",
       "      <td>0.0</td>\n",
       "      <td>0.0</td>\n",
       "      <td>0.0</td>\n",
       "      <td>0.0</td>\n",
       "      <td>0.0</td>\n",
       "      <td>1.0</td>\n",
       "      <td>0.0</td>\n",
       "      <td>0.0</td>\n",
       "      <td>1.0</td>\n",
       "      <td>1.0</td>\n",
       "    </tr>\n",
       "    <tr>\n",
       "      <th>3</th>\n",
       "      <td>47</td>\n",
       "      <td>57.000000</td>\n",
       "      <td>44.000000</td>\n",
       "      <td>1.0</td>\n",
       "      <td>0.0</td>\n",
       "      <td>0.0</td>\n",
       "      <td>0.0</td>\n",
       "      <td>0.0</td>\n",
       "      <td>0.0</td>\n",
       "      <td>0.0</td>\n",
       "      <td>0.0</td>\n",
       "      <td>0.0</td>\n",
       "      <td>0.0</td>\n",
       "      <td>0.0</td>\n",
       "      <td>1.0</td>\n",
       "    </tr>\n",
       "    <tr>\n",
       "      <th>4</th>\n",
       "      <td>76</td>\n",
       "      <td>78.000000</td>\n",
       "      <td>75.000000</td>\n",
       "      <td>1.0</td>\n",
       "      <td>0.0</td>\n",
       "      <td>1.0</td>\n",
       "      <td>0.0</td>\n",
       "      <td>0.0</td>\n",
       "      <td>0.0</td>\n",
       "      <td>0.0</td>\n",
       "      <td>0.0</td>\n",
       "      <td>1.0</td>\n",
       "      <td>0.0</td>\n",
       "      <td>1.0</td>\n",
       "      <td>1.0</td>\n",
       "    </tr>\n",
       "    <tr>\n",
       "      <th>...</th>\n",
       "      <td>...</td>\n",
       "      <td>...</td>\n",
       "      <td>...</td>\n",
       "      <td>...</td>\n",
       "      <td>...</td>\n",
       "      <td>...</td>\n",
       "      <td>...</td>\n",
       "      <td>...</td>\n",
       "      <td>...</td>\n",
       "      <td>...</td>\n",
       "      <td>...</td>\n",
       "      <td>...</td>\n",
       "      <td>...</td>\n",
       "      <td>...</td>\n",
       "      <td>...</td>\n",
       "    </tr>\n",
       "    <tr>\n",
       "      <th>997</th>\n",
       "      <td>59</td>\n",
       "      <td>71.000000</td>\n",
       "      <td>65.000000</td>\n",
       "      <td>0.0</td>\n",
       "      <td>0.0</td>\n",
       "      <td>1.0</td>\n",
       "      <td>0.0</td>\n",
       "      <td>0.0</td>\n",
       "      <td>0.0</td>\n",
       "      <td>1.0</td>\n",
       "      <td>0.0</td>\n",
       "      <td>0.0</td>\n",
       "      <td>0.0</td>\n",
       "      <td>0.0</td>\n",
       "      <td>0.0</td>\n",
       "    </tr>\n",
       "    <tr>\n",
       "      <th>998</th>\n",
       "      <td>68</td>\n",
       "      <td>78.000000</td>\n",
       "      <td>77.000000</td>\n",
       "      <td>0.0</td>\n",
       "      <td>0.0</td>\n",
       "      <td>0.0</td>\n",
       "      <td>1.0</td>\n",
       "      <td>0.0</td>\n",
       "      <td>0.0</td>\n",
       "      <td>0.0</td>\n",
       "      <td>0.0</td>\n",
       "      <td>1.0</td>\n",
       "      <td>0.0</td>\n",
       "      <td>1.0</td>\n",
       "      <td>0.0</td>\n",
       "    </tr>\n",
       "    <tr>\n",
       "      <th>999</th>\n",
       "      <td>77</td>\n",
       "      <td>86.000000</td>\n",
       "      <td>86.000000</td>\n",
       "      <td>0.0</td>\n",
       "      <td>0.0</td>\n",
       "      <td>0.0</td>\n",
       "      <td>1.0</td>\n",
       "      <td>0.0</td>\n",
       "      <td>0.0</td>\n",
       "      <td>0.0</td>\n",
       "      <td>0.0</td>\n",
       "      <td>1.0</td>\n",
       "      <td>0.0</td>\n",
       "      <td>0.0</td>\n",
       "      <td>1.0</td>\n",
       "    </tr>\n",
       "    <tr>\n",
       "      <th>1000</th>\n",
       "      <td>77</td>\n",
       "      <td>86.000000</td>\n",
       "      <td>86.000000</td>\n",
       "      <td>0.0</td>\n",
       "      <td>0.0</td>\n",
       "      <td>1.0</td>\n",
       "      <td>0.0</td>\n",
       "      <td>0.0</td>\n",
       "      <td>0.0</td>\n",
       "      <td>0.0</td>\n",
       "      <td>0.0</td>\n",
       "      <td>1.0</td>\n",
       "      <td>0.0</td>\n",
       "      <td>0.0</td>\n",
       "      <td>1.0</td>\n",
       "    </tr>\n",
       "    <tr>\n",
       "      <th>1001</th>\n",
       "      <td>77</td>\n",
       "      <td>69.185814</td>\n",
       "      <td>68.071928</td>\n",
       "      <td>0.0</td>\n",
       "      <td>0.0</td>\n",
       "      <td>1.0</td>\n",
       "      <td>0.0</td>\n",
       "      <td>0.0</td>\n",
       "      <td>0.0</td>\n",
       "      <td>0.0</td>\n",
       "      <td>0.0</td>\n",
       "      <td>1.0</td>\n",
       "      <td>0.0</td>\n",
       "      <td>0.0</td>\n",
       "      <td>1.0</td>\n",
       "    </tr>\n",
       "  </tbody>\n",
       "</table>\n",
       "<p>1002 rows × 15 columns</p>\n",
       "</div>"
      ],
      "text/plain": [
       "      math score  reading score  writing score  gender_1  \\\n",
       "0             72      72.000000      74.000000       0.0   \n",
       "1             69      90.000000      88.000000       0.0   \n",
       "2             90      95.000000      93.000000       0.0   \n",
       "3             47      57.000000      44.000000       1.0   \n",
       "4             76      78.000000      75.000000       1.0   \n",
       "...          ...            ...            ...       ...   \n",
       "997           59      71.000000      65.000000       0.0   \n",
       "998           68      78.000000      77.000000       0.0   \n",
       "999           77      86.000000      86.000000       0.0   \n",
       "1000          77      86.000000      86.000000       0.0   \n",
       "1001          77      69.185814      68.071928       0.0   \n",
       "\n",
       "      race/ethnicity_group B  race/ethnicity_group C  race/ethnicity_group D  \\\n",
       "0                        1.0                     0.0                     0.0   \n",
       "1                        0.0                     1.0                     0.0   \n",
       "2                        1.0                     0.0                     0.0   \n",
       "3                        0.0                     0.0                     0.0   \n",
       "4                        0.0                     1.0                     0.0   \n",
       "...                      ...                     ...                     ...   \n",
       "997                      0.0                     1.0                     0.0   \n",
       "998                      0.0                     0.0                     1.0   \n",
       "999                      0.0                     0.0                     1.0   \n",
       "1000                     0.0                     1.0                     0.0   \n",
       "1001                     0.0                     1.0                     0.0   \n",
       "\n",
       "      race/ethnicity_group E  parental level of education_bachelor's degree  \\\n",
       "0                        0.0                                            1.0   \n",
       "1                        0.0                                            0.0   \n",
       "2                        0.0                                            0.0   \n",
       "3                        0.0                                            0.0   \n",
       "4                        0.0                                            0.0   \n",
       "...                      ...                                            ...   \n",
       "997                      0.0                                            0.0   \n",
       "998                      0.0                                            0.0   \n",
       "999                      0.0                                            0.0   \n",
       "1000                     0.0                                            0.0   \n",
       "1001                     0.0                                            0.0   \n",
       "\n",
       "      parental level of education_high school  \\\n",
       "0                                         0.0   \n",
       "1                                         0.0   \n",
       "2                                         0.0   \n",
       "3                                         0.0   \n",
       "4                                         0.0   \n",
       "...                                       ...   \n",
       "997                                       1.0   \n",
       "998                                       0.0   \n",
       "999                                       0.0   \n",
       "1000                                      0.0   \n",
       "1001                                      0.0   \n",
       "\n",
       "      parental level of education_master's degree  \\\n",
       "0                                             0.0   \n",
       "1                                             0.0   \n",
       "2                                             1.0   \n",
       "3                                             0.0   \n",
       "4                                             0.0   \n",
       "...                                           ...   \n",
       "997                                           0.0   \n",
       "998                                           0.0   \n",
       "999                                           0.0   \n",
       "1000                                          0.0   \n",
       "1001                                          0.0   \n",
       "\n",
       "      parental level of education_some college  \\\n",
       "0                                          0.0   \n",
       "1                                          1.0   \n",
       "2                                          0.0   \n",
       "3                                          0.0   \n",
       "4                                          1.0   \n",
       "...                                        ...   \n",
       "997                                        0.0   \n",
       "998                                        1.0   \n",
       "999                                        1.0   \n",
       "1000                                       1.0   \n",
       "1001                                       1.0   \n",
       "\n",
       "      parental level of education_some high school  lunch_standard  \\\n",
       "0                                              0.0             1.0   \n",
       "1                                              0.0             1.0   \n",
       "2                                              0.0             1.0   \n",
       "3                                              0.0             0.0   \n",
       "4                                              0.0             1.0   \n",
       "...                                            ...             ...   \n",
       "997                                            0.0             0.0   \n",
       "998                                            0.0             1.0   \n",
       "999                                            0.0             0.0   \n",
       "1000                                           0.0             0.0   \n",
       "1001                                           0.0             0.0   \n",
       "\n",
       "      test preparation course_none  \n",
       "0                              1.0  \n",
       "1                              0.0  \n",
       "2                              1.0  \n",
       "3                              1.0  \n",
       "4                              1.0  \n",
       "...                            ...  \n",
       "997                            0.0  \n",
       "998                            0.0  \n",
       "999                            1.0  \n",
       "1000                           1.0  \n",
       "1001                           1.0  \n",
       "\n",
       "[1002 rows x 15 columns]"
      ]
     },
     "execution_count": 156,
     "metadata": {},
     "output_type": "execute_result"
    }
   ],
   "source": [
    "X1"
   ]
  },
  {
   "cell_type": "markdown",
   "id": "b7bdfc15-8dc7-4c09-93ae-5f0804882a84",
   "metadata": {},
   "source": [
    "a. Visualisation libre d'une tendance surprenante"
   ]
  },
  {
   "cell_type": "code",
   "execution_count": null,
   "id": "10678def-6044-4774-95f1-96de4440f3de",
   "metadata": {},
   "outputs": [],
   "source": []
  }
 ],
 "metadata": {
  "kernelspec": {
   "display_name": "Python 3",
   "language": "python",
   "name": "python3"
  },
  "language_info": {
   "codemirror_mode": {
    "name": "ipython",
    "version": 3
   },
   "file_extension": ".py",
   "mimetype": "text/x-python",
   "name": "python",
   "nbconvert_exporter": "python",
   "pygments_lexer": "ipython3",
   "version": "3.13.5"
  }
 },
 "nbformat": 4,
 "nbformat_minor": 5
}
