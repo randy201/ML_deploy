{
 "cells": [
  {
   "cell_type": "markdown",
   "id": "3339861d",
   "metadata": {},
   "source": [
    "# 📘 Suite du TP – Analyse des performances d’étudiants\n",
    "\n",
    "🎯 **Objectif :** Approfondir la préparation du dataset pour une régression linéaire multiple en appliquant la standardisation, la réduction de dimension et la suppression des variables corrélées."
   ]
  },
  {
   "cell_type": "markdown",
   "id": "d5159b7a",
   "metadata": {},
   "source": [
    "## 🔄 7. Normalisation et standardisation"
   ]
  },
  {
   "cell_type": "markdown",
   "id": "cf2e28c9",
   "metadata": {},
   "source": [
    "**0** Comprendre la notion de normalisation et de standardisation \n",
    "\n",
    "**21.** Standardisez toutes les colonnes numériques de `X` (moyenne 0, écart-type 1) à l’aide de `StandardScaler`.\n",
    "\n",
    "**22.** Comparez les résultats avec une normalisation min-max (`MinMaxScaler`)."
   ]
  },
  {
   "cell_type": "code",
   "execution_count": null,
   "id": "678a0e65",
   "metadata": {},
   "outputs": [],
   "source": []
  },
  {
   "cell_type": "markdown",
   "id": "7210ceae",
   "metadata": {},
   "source": [
    "## 🔁 8. Suppression des variables trop corrélées"
   ]
  },
  {
   "cell_type": "markdown",
   "id": "16c4ecc7",
   "metadata": {},
   "source": [
    "**0.** Comprendre la notion de corrélation linéaire. \n",
    "\n",
    "**23.** Calculez la **matrice de corrélation** entre les variables explicatives (`X`).\n",
    "\n",
    "**24.** Supprimez les variables dont la corrélation dépasse un seuil (ex : > 0.9).\n",
    "\n",
    "**25.** Réaffichez la heatmap pour valider."
   ]
  },
  {
   "cell_type": "markdown",
   "id": "dc067b97",
   "metadata": {},
   "source": [
    "## 🧬 9. Réduction de dimension (PCA)"
   ]
  },
  {
   "cell_type": "markdown",
   "id": "2b0e3ba9",
   "metadata": {},
   "source": [
    "**0.** Comprendre la notion de réduction de dimension. Essayer de comprendre PCA globalement\n",
    "\n",
    "**26.** Appliquez une **PCA** sur les données standardisées.\n",
    "\n",
    "**27.** Affichez la variance expliquée par chaque composante.\n",
    "\n",
    "**28.** Tracez un nuage de points 2D selon les 2 premières composantes."
   ]
  },
  {
   "cell_type": "code",
   "execution_count": null,
   "id": "4e5c0e23-6afd-4466-b9cc-ee1e4377fe25",
   "metadata": {},
   "outputs": [],
   "source": []
  }
 ],
 "metadata": {
  "kernelspec": {
   "display_name": "Python 3 (ipykernel)",
   "language": "python",
   "name": "python3"
  },
  "language_info": {
   "codemirror_mode": {
    "name": "ipython",
    "version": 3
   },
   "file_extension": ".py",
   "mimetype": "text/x-python",
   "name": "python",
   "nbconvert_exporter": "python",
   "pygments_lexer": "ipython3",
   "version": "3.12.3"
  }
 },
 "nbformat": 4,
 "nbformat_minor": 5
}
