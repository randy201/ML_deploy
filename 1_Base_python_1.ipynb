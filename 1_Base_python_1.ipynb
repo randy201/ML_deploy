{
 "cells": [
  {
   "cell_type": "markdown",
   "metadata": {
    "id": "pY8iWjayaC22"
   },
   "source": [
    "<h1> Python </h1>\n",
    "\n",
    "On va voir les bases du langage Python"
   ]
  },
  {
   "cell_type": "markdown",
   "metadata": {
    "id": "VoMq0eFRvugb"
   },
   "source": [
    "#  Variables"
   ]
  },
  {
   "cell_type": "code",
   "execution_count": 1,
   "metadata": {},
   "outputs": [
    {
     "name": "stdout",
     "output_type": "stream",
     "text": [
      "Alice Hello, world!\n",
      "Alice\n",
      "8\n"
     ]
    }
   ],
   "source": [
    "# Nombres\n",
    "x = 10        # int\n",
    "y = 3.14      # float\n",
    "z = 1 + 2j    # complex\n",
    "\n",
    "# Chaînes de caractères(non mutable)\n",
    "name = \"Alice\"\n",
    "greeting = 'Hello, world!'\n",
    "print(name,greeting)\n",
    "\n",
    "# Booléens\n",
    "is_student = True\n",
    "is_teacher = False\n",
    "\n",
    "# Listes (mutable)\n",
    "fruits = [\"apple\", \"banana\", \"cherry\"]\n",
    "numbers = [1, 2, 3, 4, 5]\n",
    "\n",
    "\n",
    "# Tuples (non mutable)\n",
    "#non mutable veut dire non modifiable donc l'affectation point[0] = 1 est interdit\n",
    "point = (2.5, 3.6)\n",
    "colors = (\"red\", \"green\", \"blue\")\n",
    "\n",
    "# Ensembles\n",
    "#particularité : sans doublon, les opérations ensemblistes y sont integrées\n",
    "unique_numbers = {1, 2, 3, 4, 5}\n",
    "unique_fruits = {\"apple\", \"banana\", \"cherry\"}\n",
    "unions = unique_numbers.union(unique_fruits)\n",
    "\n",
    "# Dictionnaires :  principe de clé => valeur\n",
    "student = {\"name\": \"Alice\", \"age\": 25, \"is_student\": True}\n",
    "translations = {1: \"one\", 2: \"two\", 3: \"three\"}\n",
    "print(student[\"name\"])\n",
    "\n",
    "#la fonction len pour avoir les longueurs des sequences, ensemble ou dictionnaire\n",
    "print(len(unions))\n"
   ]
  },
  {
   "cell_type": "markdown",
   "metadata": {
    "id": "wJqJM2Q13TwE"
   },
   "source": [
    "## Indexing et Slicing"
   ]
  },
  {
   "cell_type": "code",
   "execution_count": 2,
   "metadata": {
    "colab": {
     "base_uri": "https://localhost:8080/"
    },
    "id": "W0xpIryJWCN9",
    "outputId": "3ec8df64-a373-49bd-8e55-f280409ba913"
   },
   "outputs": [
    {
     "name": "stdout",
     "output_type": "stream",
     "text": [
      "x[0]:  3\n",
      "x[1]:  hello\n",
      "x[-1]:  4\n",
      "x[-2]:  1.2\n",
      "[18, 'hello', 1.2, 4]\n"
     ]
    }
   ],
   "source": [
    "# Indexing pour l'accès\n",
    "x = [3, \"hello\", 1.2,4]\n",
    "print (\"x[0]: \", x[0])\n",
    "print (\"x[1]: \", x[1])\n",
    "print (\"x[-1]: \", x[-1]) # le dernier\n",
    "print (\"x[-2]: \", x[-2]) # deuxième à partir de l'arrière\n",
    "#indexing pour la modification\n",
    "x[0] = 18\n",
    "print(x)"
   ]
  },
  {
   "cell_type": "code",
   "execution_count": 3,
   "metadata": {
    "colab": {
     "base_uri": "https://localhost:8080/"
    },
    "id": "VSu_HNrnc1WK",
    "outputId": "d3c3525f-3ef6-40a5-abd7-a1d22c7d183d"
   },
   "outputs": [
    {
     "name": "stdout",
     "output_type": "stream",
     "text": [
      "x[:]:  [3, 'hello', 1.2, 4]\n",
      "x[1:]:  ['hello', 1.2, 4]\n",
      "x[1:2]:  ['hello']\n",
      "x[:-1]:  [3, 'hello', 1.2]\n",
      "x[::2] [3, 1.2]\n",
      "[8, 9, 1.2, 4]\n"
     ]
    }
   ],
   "source": [
    "# Slicing\n",
    "#la forme generale est sequence[debut:fin:pas] : on prend tous les éléments de sequence sur les index debut jusqu'à fin -1 en sautant de pas\n",
    "#si debut non spécifié alors ça devient 0 par défaut\n",
    "#si fin non spécifié alors ça devient len(sequence) par défaut\n",
    "#slicing pour l'accès\n",
    "x = [3, \"hello\", 1.2,4]\n",
    "print (\"x[:]: \", x[:]) # tout\n",
    "print (\"x[1:]: \", x[1:]) # de 1 à la fin\n",
    "print (\"x[1:2]: \", x[1:2]) # seulement l'index 1\n",
    "print (\"x[:-1]: \", x[:-1]) # index 0 à la fin non inclu\n",
    "print(\"x[::2]\", x[::2]) #depuis le début pas de 2\n",
    "#slicing pour la modification/affectation\n",
    "x[0:2] = [8,9]\n",
    "print(x)"
   ]
  },
  {
   "cell_type": "markdown",
   "metadata": {
    "id": "B-DInx_Xo2vJ"
   },
   "source": [
    "# Les blocs if"
   ]
  },
  {
   "cell_type": "markdown",
   "metadata": {
    "id": "ZG_ICGRGo4tY"
   },
   "source": [
    "La seule particularité est qu'on utilise l'indetation pour montrer l'imbrication des lignes de codes"
   ]
  },
  {
   "cell_type": "code",
   "execution_count": 4,
   "metadata": {
    "colab": {
     "base_uri": "https://localhost:8080/"
    },
    "id": "vwsQaZqIpfJ3",
    "outputId": "ee7a5e68-648d-4a41-8105-4c27c8eab172"
   },
   "outputs": [
    {
     "name": "stdout",
     "output_type": "stream",
     "text": [
      "it worked\n"
     ]
    }
   ],
   "source": [
    "# If statement with a boolean\n",
    "x = True\n",
    "if x:\n",
    "    print (\"it worked\")"
   ]
  },
  {
   "cell_type": "markdown",
   "metadata": {
    "id": "sJ7NPGEKV6Ik"
   },
   "source": [
    "# Boucle"
   ]
  },
  {
   "cell_type": "markdown",
   "metadata": {
    "id": "cRgqRyfITuEC"
   },
   "source": [
    "### Boucle For"
   ]
  },
  {
   "cell_type": "raw",
   "metadata": {
    "id": "YRVxhVCkn0vc"
   },
   "source": [
    "La boucle for marche seulement sur les itérables"
   ]
  },
  {
   "cell_type": "code",
   "execution_count": 5,
   "metadata": {
    "colab": {
     "base_uri": "https://localhost:8080/"
    },
    "id": "OB5PtyqAn8mj",
    "outputId": "28ba0561-9d78-401a-8c35-ee1329a47d43"
   },
   "outputs": [
    {
     "name": "stdout",
     "output_type": "stream",
     "text": [
      "carrots\n",
      "broccoli\n",
      "beans\n"
     ]
    }
   ],
   "source": [
    "# For loop\n",
    "veggies = [\"carrots\", \"broccoli\", \"beans\"]\n",
    "for veggie in veggies:\n",
    "    print (veggie)"
   ]
  },
  {
   "cell_type": "markdown",
   "metadata": {},
   "source": [
    "En utilisant les index"
   ]
  },
  {
   "cell_type": "code",
   "execution_count": 6,
   "metadata": {},
   "outputs": [
    {
     "name": "stdout",
     "output_type": "stream",
     "text": [
      "carrots\n",
      "broccoli\n",
      "beans\n"
     ]
    }
   ],
   "source": [
    "for i in range(len(veggies)):\n",
    "    print(veggies[i])"
   ]
  },
  {
   "cell_type": "markdown",
   "metadata": {
    "id": "VAbnASi2TwZ9"
   },
   "source": [
    "### Boucle While"
   ]
  },
  {
   "cell_type": "code",
   "execution_count": 7,
   "metadata": {
    "colab": {
     "base_uri": "https://localhost:8080/"
    },
    "id": "5Tf2x4okp3fH",
    "outputId": "b54b0092-190f-4e02-d5f4-2dc9fb6e7d2c"
   },
   "outputs": [
    {
     "name": "stdout",
     "output_type": "stream",
     "text": [
      "2\n",
      "1\n",
      "0\n"
     ]
    }
   ],
   "source": [
    "# While loop\n",
    "x = 3\n",
    "while x > 0:\n",
    "    x -= 1 # same as x = x - 1\n",
    "    print (x)"
   ]
  },
  {
   "cell_type": "markdown",
   "metadata": {
    "id": "4Ku6BGnnoXxW"
   },
   "source": [
    "# List comprehension"
   ]
  },
  {
   "cell_type": "markdown",
   "metadata": {
    "id": "VebDucj8oZae"
   },
   "source": [
    "La \"List comprehension\" est une forme contracté pour la création des listes"
   ]
  },
  {
   "cell_type": "code",
   "execution_count": 8,
   "metadata": {
    "colab": {
     "base_uri": "https://localhost:8080/"
    },
    "id": "5wZY1Pt_orEu",
    "outputId": "9ed6531d-321d-4c0b-f639-ecfe61b031e1"
   },
   "outputs": [
    {
     "name": "stdout",
     "output_type": "stream",
     "text": [
      "[3, 4, 5]\n"
     ]
    }
   ],
   "source": [
    "# La forme longue\n",
    "x = [1, 2, 3, 4, 5]\n",
    "y = []\n",
    "for item in x:\n",
    "    if item > 2:\n",
    "        y.append(item)\n",
    "print (y)"
   ]
  },
  {
   "cell_type": "code",
   "execution_count": 9,
   "metadata": {
    "colab": {
     "base_uri": "https://localhost:8080/"
    },
    "id": "TuRUDixEo1Z4",
    "outputId": "5d79bd11-87ff-42a7-9641-8bf1833a4775"
   },
   "outputs": [
    {
     "name": "stdout",
     "output_type": "stream",
     "text": [
      "[3, 4, 5]\n"
     ]
    }
   ],
   "source": [
    "# La forme courte en utilisant la List comprehension\n",
    "y = [item for item in x if item > 2]\n",
    "print (y)"
   ]
  },
  {
   "cell_type": "code",
   "execution_count": 10,
   "metadata": {
    "colab": {
     "base_uri": "https://localhost:8080/"
    },
    "id": "V_E59A9Io1cz",
    "outputId": "2b319220-e56d-4aec-b514-6b554b046abd"
   },
   "outputs": [
    {
     "name": "stdout",
     "output_type": "stream",
     "text": [
      "['am', 'be']\n"
     ]
    }
   ],
   "source": [
    "# Boucle imbriqué la forme longue\n",
    "words = [[\"Am\", \"ate\", \"ATOM\", \"apple\"], [\"bE\", \"boy\", \"ball\", \"bloom\"]]\n",
    "small_words = []\n",
    "for letter_list in words:\n",
    "    for word in letter_list:\n",
    "        if len(word) < 3:\n",
    "            small_words.append(word.lower())\n",
    "print (small_words)"
   ]
  },
  {
   "cell_type": "markdown",
   "metadata": {
    "id": "SHcly_8zwyCW"
   },
   "source": [
    "La forme de cette boucle imbriquée en utilisant la \"List comprehension\""
   ]
  },
  {
   "cell_type": "code",
   "execution_count": 11,
   "metadata": {
    "colab": {
     "base_uri": "https://localhost:8080/"
    },
    "id": "YyKnHhiso1fg",
    "outputId": "66bbdf90-69f6-4390-ff42-50b0ad7f822e"
   },
   "outputs": [
    {
     "name": "stdout",
     "output_type": "stream",
     "text": [
      "['am', 'be']\n"
     ]
    }
   ],
   "source": [
    "# List comprehension\n",
    "small_words = [word.lower() for letter_list in words for word in letter_list if len(word) < 3]\n",
    "print (small_words)"
   ]
  },
  {
   "cell_type": "markdown",
   "metadata": {
    "id": "gJw-EDO9WBL_"
   },
   "source": [
    "# Fonction"
   ]
  },
  {
   "cell_type": "code",
   "execution_count": 12,
   "metadata": {
    "id": "iin1ZXmMqA0y"
   },
   "outputs": [],
   "source": [
    "# définition d'une fonction\n",
    "def add_two(x):\n",
    "    \"\"\"Increase x by 2.\"\"\" # explication de ce que la fonction fait\n",
    "    x += 2\n",
    "    return x"
   ]
  },
  {
   "cell_type": "code",
   "execution_count": 13,
   "metadata": {
    "colab": {
     "base_uri": "https://localhost:8080/"
    },
    "id": "4ye1A5FobAUd",
    "outputId": "126a0919-d25b-4df5-e29d-dffc988e4dba"
   },
   "outputs": [
    {
     "name": "stdout",
     "output_type": "stream",
     "text": [
      "2\n"
     ]
    }
   ],
   "source": [
    "# Utilisation de la fonction\n",
    "score = 0\n",
    "new_score = add_two(x=score)\n",
    "print (new_score)"
   ]
  },
  {
   "cell_type": "markdown",
   "metadata": {},
   "source": [
    "## Classes"
   ]
  },
  {
   "cell_type": "markdown",
   "metadata": {
    "id": "mGua8QnArAZh"
   },
   "source": [
    "Pour la programmation orientée objet en Python nous avons besoin de connaîtres les points suivants"
   ]
  },
  {
   "cell_type": "markdown",
   "metadata": {
    "id": "CypuBBQyRv8s"
   },
   "source": [
    "### `__init__` function"
   ]
  },
  {
   "cell_type": "markdown",
   "metadata": {
    "id": "Hrx2bKTXR4E3"
   },
   "source": [
    "La méthode `__init__` est le constructeur "
   ]
  },
  {
   "cell_type": "code",
   "execution_count": 14,
   "metadata": {
    "id": "DXmPwI1frAAd"
   },
   "outputs": [],
   "source": [
    "# Creating the class\n",
    "class Pet(object):\n",
    "    \"\"\"Class object for a pet.\"\"\"\n",
    "    \n",
    "    def __init__(self, species, name):\n",
    "        \"\"\"Initialize a Pet.\"\"\"\n",
    "        self.species = species\n",
    "        self.name = name"
   ]
  },
  {
   "cell_type": "code",
   "execution_count": 15,
   "metadata": {
    "colab": {
     "base_uri": "https://localhost:8080/"
    },
    "id": "j5F4XmFQSfVr",
    "outputId": "6e7b3799-9f0c-4bb0-b6fb-09592602beae"
   },
   "outputs": [
    {
     "name": "stdout",
     "output_type": "stream",
     "text": [
      "<__main__.Pet object at 0x0000022A596DBE00>\n",
      "Scooby\n"
     ]
    }
   ],
   "source": [
    "# Creating an instance of a class\n",
    "my_dog = Pet(species=\"dog\", \n",
    "             name=\"Scooby\")\n",
    "print (my_dog)\n",
    "print (my_dog.name)"
   ]
  },
  {
   "cell_type": "markdown",
   "metadata": {
    "id": "6ZVfBXNISUBR"
   },
   "source": [
    "### `__str__` function"
   ]
  },
  {
   "cell_type": "markdown",
   "metadata": {
    "id": "8q6oiWHQSqOo"
   },
   "source": [
    "La méthode `__str__` est la fonction appelée lorsqu'on affiche l'objet"
   ]
  },
  {
   "cell_type": "code",
   "execution_count": 16,
   "metadata": {
    "id": "N1_RDVo9Ruhf"
   },
   "outputs": [],
   "source": [
    "# Creating the class\n",
    "class Pet(object):\n",
    "    \"\"\"Class object for a pet.\"\"\"\n",
    "  \n",
    "    def __init__(self, species, name):\n",
    "        \"\"\"Initialize a Pet.\"\"\"\n",
    "        self.species = species\n",
    "        self.name = name\n",
    " \n",
    "    def __str__(self):\n",
    "        \"\"\"Output when printing an instance of a Pet.\"\"\"\n",
    "        return f\"{self.species} named {self.name}\""
   ]
  },
  {
   "cell_type": "code",
   "execution_count": 17,
   "metadata": {
    "colab": {
     "base_uri": "https://localhost:8080/"
    },
    "id": "vQeU2yScSkW7",
    "outputId": "3c59f98f-d8c8-4de6-d885-3ad46cd7920f"
   },
   "outputs": [
    {
     "name": "stdout",
     "output_type": "stream",
     "text": [
      "dog named Scooby\n",
      "Scooby\n"
     ]
    }
   ],
   "source": [
    "# Creating an instance of a class\n",
    "my_dog = Pet(species=\"dog\", \n",
    "             name=\"Scooby\")\n",
    "print (my_dog)\n",
    "print (my_dog.name)"
   ]
  },
  {
   "cell_type": "markdown",
   "metadata": {
    "id": "LaTaBd8jSYuy"
   },
   "source": [
    "### Les autres methodes"
   ]
  },
  {
   "cell_type": "code",
   "execution_count": 18,
   "metadata": {
    "id": "Vz95DOFjSY3s"
   },
   "outputs": [],
   "source": [
    "# Creating the class\n",
    "#on passe self en paramètres pour les méthodes\n",
    "class Pet(object):\n",
    "    \"\"\"Class object for a pet.\"\"\"\n",
    "  \n",
    "    def __init__(self, species, name):\n",
    "        \"\"\"Initialize a Pet.\"\"\"\n",
    "        self.species = species\n",
    "        self.name = name\n",
    " \n",
    "    def __str__(self):\n",
    "        \"\"\"Output when printing an instance of a Pet.\"\"\"\n",
    "        return f\"{self.species} named {self.name}\"\n",
    "        \n",
    "    def change_name(self, new_name):\n",
    "        \"\"\"Change the name of your Pet.\"\"\"\n",
    "        self.name = new_name"
   ]
  },
  {
   "cell_type": "code",
   "execution_count": 19,
   "metadata": {
    "colab": {
     "base_uri": "https://localhost:8080/"
    },
    "id": "ezQq_Fhhrqrv",
    "outputId": "26d3815b-902d-4f27-9eae-b01e58f4bb90"
   },
   "outputs": [
    {
     "name": "stdout",
     "output_type": "stream",
     "text": [
      "dog named Scooby\n",
      "Scooby\n"
     ]
    }
   ],
   "source": [
    "# Creating an instance of a class\n",
    "my_dog = Pet(species=\"dog\", name=\"Scooby\")\n",
    "print (my_dog)\n",
    "print (my_dog.name)"
   ]
  },
  {
   "cell_type": "code",
   "execution_count": 20,
   "metadata": {
    "colab": {
     "base_uri": "https://localhost:8080/"
    },
    "id": "qTinlRj1szc5",
    "outputId": "5b667950-7a03-461d-9df6-35757394cac3"
   },
   "outputs": [
    {
     "name": "stdout",
     "output_type": "stream",
     "text": [
      "dog named Scrappy\n",
      "Scrappy\n"
     ]
    }
   ],
   "source": [
    "# Using a class's function\n",
    "my_dog.change_name(new_name=\"Scrappy\")\n",
    "print (my_dog)\n",
    "print (my_dog.name)"
   ]
  },
  {
   "cell_type": "markdown",
   "metadata": {
    "id": "wRcOLRK3TlEO"
   },
   "source": [
    "### Héritage"
   ]
  },
  {
   "cell_type": "code",
   "execution_count": 21,
   "metadata": {
    "id": "TaDN2qwBTm7_"
   },
   "outputs": [],
   "source": [
    "#l'héritage se fait en utilisant la parenthèse\n",
    "class Dog(Pet):\n",
    "    def __init__(self, name, breed):\n",
    "        super().__init__(species=\"dog\", name=name)\n",
    "        self.breed = breed\n",
    "    \n",
    "    def __str__(self):\n",
    "        return f\"{self.breed} named {self.name}\""
   ]
  },
  {
   "cell_type": "code",
   "execution_count": 22,
   "metadata": {
    "colab": {
     "base_uri": "https://localhost:8080/"
    },
    "id": "tKxWHokkT-RI",
    "outputId": "ff03655c-4b26-478e-ab06-52e38fdedd3c"
   },
   "outputs": [
    {
     "name": "stdout",
     "output_type": "stream",
     "text": [
      "Great Dane named Scooby\n"
     ]
    }
   ],
   "source": [
    "scooby = Dog(breed=\"Great Dane\", name=\"Scooby\")\n",
    "print (scooby)"
   ]
  },
  {
   "cell_type": "code",
   "execution_count": 23,
   "metadata": {
    "colab": {
     "base_uri": "https://localhost:8080/"
    },
    "id": "YLF_tw5mVFO9",
    "outputId": "dd4f4fee-f082-4777-f98f-bdcc2839a2b6"
   },
   "outputs": [
    {
     "name": "stdout",
     "output_type": "stream",
     "text": [
      "Great Dane named Scooby Doo\n"
     ]
    }
   ],
   "source": [
    "scooby.change_name(\"Scooby Doo\")\n",
    "print (scooby)"
   ]
  },
  {
   "cell_type": "markdown",
   "metadata": {
    "id": "B-XNM5_37842"
   },
   "source": [
    "### Methodes de classe et les méthodes statiques"
   ]
  },
  {
   "cell_type": "markdown",
   "metadata": {
    "id": "pvqSxZn57_2-"
   },
   "source": [
    "Pour spécifier ces méthodes on doit utiliser les décorateurs `@classmethod` and `@staticmethod`"
   ]
  },
  {
   "cell_type": "code",
   "execution_count": 24,
   "metadata": {
    "id": "fdoi3R7z8QJw"
   },
   "outputs": [],
   "source": [
    "class Dog(Pet):\n",
    "    def __init__(self, name, breed):\n",
    "        super().__init__(species=\"dog\", name=name)\n",
    "        self.breed = breed\n",
    "    \n",
    "    def __str__(self):\n",
    "        return f\"{self.breed} named {self.name}\"\n",
    "\n",
    "    @classmethod\n",
    "    def from_dict(cls, d):\n",
    "        #cls est la classe elle-même\n",
    "        return cls(name=d[\"name\"], breed=d[\"breed\"])\n",
    "\n",
    "    @staticmethod\n",
    "    def is_cute(breed):\n",
    "        #n'accepte ni self ni cls\n",
    "        return True  # all animaals are cute!"
   ]
  },
  {
   "cell_type": "markdown",
   "metadata": {
    "id": "6lXOkrAI-IuJ"
   },
   "source": [
    "A `@classmethod` nours permet de créer des intances de la classes à partir de `cls`.\n"
   ]
  },
  {
   "cell_type": "code",
   "execution_count": 25,
   "metadata": {
    "colab": {
     "base_uri": "https://localhost:8080/"
    },
    "id": "kPgWwVBu8_ro",
    "outputId": "6bd1a6de-39ca-4b43-e0b3-9e272923b95d"
   },
   "outputs": [
    {
     "name": "stdout",
     "output_type": "stream",
     "text": [
      "Border Collie named Cassie\n"
     ]
    }
   ],
   "source": [
    "# Create instance\n",
    "d = {\"name\": \"Cassie\", \"breed\": \"Border Collie\"}\n",
    "cassie = Dog.from_dict(d=d)\n",
    "print(cassie)"
   ]
  },
  {
   "cell_type": "markdown",
   "metadata": {
    "id": "LEhGQqU79-MO"
   },
   "source": [
    "Les méthodes `@staticmethod` sont des méthodes associées à des services. "
   ]
  },
  {
   "cell_type": "code",
   "execution_count": 26,
   "metadata": {
    "colab": {
     "base_uri": "https://localhost:8080/"
    },
    "id": "9PdglAwa8_uG",
    "outputId": "69b75e60-cc18-479d-e540-2e8b4bcd96eb"
   },
   "outputs": [
    {
     "data": {
      "text/plain": [
       "True"
      ]
     },
     "execution_count": 26,
     "metadata": {},
     "output_type": "execute_result"
    }
   ],
   "source": [
    "# Static method\n",
    "Dog.is_cute(breed=\"Border Collie\")"
   ]
  },
  {
   "cell_type": "markdown",
   "metadata": {},
   "source": [
    "# Exercices pour s'échauffer"
   ]
  },
  {
   "cell_type": "markdown",
   "metadata": {},
   "source": [
    "1) écrire une fonction qui prend un nombre et qui le convertit en binaire (fonction à faire à la main) (à comparer avec la fonction bin() )"
   ]
  },
  {
   "cell_type": "code",
   "execution_count": 37,
   "metadata": {},
   "outputs": [
    {
     "name": "stdout",
     "output_type": "stream",
     "text": [
      "Help on built-in function bin in module builtins:\n",
      "\n",
      "bin(number, /)\n",
      "    Return the binary representation of an integer.\n",
      "\n",
      "    >>> bin(2796202)\n",
      "    '0b1010101010101010101010'\n",
      "\n",
      "1011010 0b1011010\n"
     ]
    }
   ],
   "source": [
    "help(bin)\n",
    "\n",
    "def to_binaire(number):\n",
    "    binaire = 0\n",
    "    i = 1\n",
    "    while number > 0:\n",
    "        binaire += (number % 2) * i\n",
    "        number //= 2\n",
    "        i *= 10\n",
    "    return binaire\n",
    "\n",
    "print(to_binaire(90), bin(90))"
   ]
  },
  {
   "cell_type": "code",
   "execution_count": 28,
   "metadata": {},
   "outputs": [],
   "source": [
    "#le code à mettre ici"
   ]
  },
  {
   "cell_type": "markdown",
   "metadata": {},
   "source": [
    "2) Écrire une fonction qui prend en paramètre une liste de mots et retourne un dictionnaire qui compte combien chaque mot de la liste apparait\n",
    "\n",
    "Exemple: \n",
    "\n",
    "Entrée : lst = [\"mot\",\"bonjour\",\"test\",\"mot\",\"test\"]\n",
    "\n",
    "Sortie: un dictionnaire d tel que:\n",
    "\n",
    "        d[\"mot\"]=2\n",
    "\n",
    "        d[\"bonjour\"]=1\n",
    "\n",
    "        d[\"test\"] =2"
   ]
  },
  {
   "cell_type": "code",
   "execution_count": 38,
   "metadata": {},
   "outputs": [
    {
     "name": "stdout",
     "output_type": "stream",
     "text": [
      "{'mot': 2, 'bonjour': 1, 'test': 2}\n"
     ]
    }
   ],
   "source": [
    "#le code à mettre ici\n",
    "def compte_mots(mots):\n",
    "    occurence = {}\n",
    "    for mot in mots:\n",
    "        if mot in occurence:\n",
    "            occurence[mot] += 1\n",
    "        else:\n",
    "            occurence[mot] = 1\n",
    "    return occurence\n",
    "\n",
    "lst = [\"mot\",\"bonjour\",\"test\",\"mot\",\"test\"]\n",
    "print(compte_mots(lst))\n"
   ]
  },
  {
   "cell_type": "markdown",
   "metadata": {},
   "source": [
    "3) Soit `lst` une liste de mots. Par exemple prenons `lst = [\"rouge\",\"vert\",\"rouge\",\"vert\",\"jaune\"]`. On veut faire une fonction qui prend de telle liste en paramètre et qui retourne deux nouvelles listes:\n",
    "- une liste appelée `unique` des mots sans doublon\n",
    "- une liste `position` de même taille que `lst` mais `position[i]=j` avec `j` soit la position du mots `lst[i]` dans `unique`\n",
    "\n",
    "Écrire cette fonction"
   ]
  },
  {
   "cell_type": "code",
   "execution_count": 42,
   "metadata": {},
   "outputs": [
    {
     "name": "stdout",
     "output_type": "stream",
     "text": [
      "(['rouge', 'vert', 'jaune'], [0, 2, 1, 3, 4])\n"
     ]
    }
   ],
   "source": [
    "#ici la réponse\n",
    "def compte_mots_position(mots):\n",
    "    mot_unique = []\n",
    "    position = []\n",
    "    for mot in mots:\n",
    "        if mot not in mot_unique:\n",
    "            mot_unique.append(mot)\n",
    "    for mot in mot_unique:\n",
    "        for i, mot2 in enumerate(mots):\n",
    "            if mot2 == mot:\n",
    "                position.append(i)\n",
    "    return  mot_unique,position\n",
    "\n",
    "lst = [\"rouge\",\"vert\",\"rouge\",\"vert\",\"jaune\"]\n",
    "print(compte_mots_position(lst))\n"
   ]
  },
  {
   "cell_type": "markdown",
   "metadata": {},
   "source": [
    "4) Soit `s` un chaine de caractère stockant un mot de passe, écrire une fonction booléene qui dit que `s` est un mot de passe sécurisé ou pas en sachant qu'un mot de passe sécurisé vérifie les critères suivants:\n",
    "- sa longueur est supérieure à 8 caractères\n",
    "- il y a au moins un caractère spécial\n",
    "- il y a au moins un chiffre\n",
    "- il y a au moins un majuscule\n",
    "\n",
    "(utilisé les fonctions char() et ord() )"
   ]
  },
  {
   "cell_type": "code",
   "execution_count": null,
   "metadata": {},
   "outputs": [
    {
     "name": "stdout",
     "output_type": "stream",
     "text": [
      "(False, 7, 1, 4, 0)\n",
      "65 - 90 -> -25\n",
      "97 - 122 -> -25\n",
      "48 - 57 -> -9\n",
      "! -> 33 -> /\n"
     ]
    }
   ],
   "source": [
    "#ici la réponse\n",
    "def is_secure_mdp(mot_de_passe):\n",
    "    list_spec_charactere = [\"!\",\"@\",\"#\",\"$\",\"%\",\"^\",\"&\",\"*\",\"(\",\")\",\"_\",\"+\",\".\",\",\",\";\",\"?\",\"/\",\"#\",\"=\"]\n",
    "    # if len(mot_de_passe) < 8:\n",
    "    #     return False\n",
    "    # if not any(c.isupper() for c in mot_de_passe):\n",
    "    #     return False\n",
    "    # if not any(c.islower() for c in mot_de_passe):\n",
    "    #     return False\n",
    "    # if not any(c.isdigit() for c in mot_de_passe):\n",
    "    #     return False\n",
    "    # if not any(c in list_spec_charactere for c in mot_de_passe):\n",
    "    #     return False\n",
    "    # return True\n",
    "    score_maj = 0\n",
    "    score_min = 0\n",
    "    score_num = 0\n",
    "    score_spec = 0\n",
    "    for i,c in enumerate(mot_de_passe):\n",
    "        if ord(c) >= ord(\"A\") and ord(c) <= ord(\"Z\"):\n",
    "            score_maj += 1\n",
    "        if ord(c) >= ord(\"a\") and ord(c) <= ord(\"z\"):\n",
    "            score_min += 1\n",
    "        if ord(c) >= ord(\"0\") and ord(c) <= ord(\"9\"):\n",
    "            score_num += 1\n",
    "        if 47 >= ord(c) and ord(c) <= 33:\n",
    "            score_spec += 1\n",
    "    if score_maj >= 1 and score_min >= 1 and score_num >= 1 and score_spec >= 1:\n",
    "        return True\n",
    "    return False, score_maj , score_min , score_num , score_spec\n",
    "\n",
    "print(is_secure_mdp(\"A1B2C3d4MMMM\"))\n",
    "##\n",
    "print(ord(\"A\") , \"-\" , ord(\"Z\"), \"->\" , ord(\"A\") - ord(\"Z\"))\n",
    "print(ord(\"a\") , \"-\" , ord(\"z\"), \"->\" , ord(\"a\") - ord(\"z\"))\n",
    "print(ord(\"0\") , \"-\" , ord(\"9\"), \"->\" , ord(\"0\") - ord(\"9\"))\n",
    "##chr 33 -> 47 : caractères spéciaux\n",
    "print(chr(33) , \"->\" , ord(\"!\") , \"->\" , chr(47) )\n"
   ]
  },
  {
   "cell_type": "markdown",
   "metadata": {},
   "source": [
    "5) Un palindrome est un mot ou une phrase dont l’ordre des lettres reste le même si on le lit de gauche à droite ou de droite à gauche. Par exemple, « ressasser » et « engage le jeu que je le gagne » sont des palindromes. Créez la fonction test_palindrome() qui prend en argument une chaîne de caractères et qui affiche xxx est un palindrome si la chaîne de caractères xxx passée en argument est un palindrome ou xxx n'est pas un palindrome sinon. Pensez à vous débarrasser au préalable des majuscules et des espaces.Testez ensuite si les expressions suivantes sont des palindromes : radar,never odd or even,karine alla en Iran,un roc si biscornu"
   ]
  },
  {
   "cell_type": "code",
   "execution_count": 98,
   "metadata": {},
   "outputs": [
    {
     "name": "stdout",
     "output_type": "stream",
     "text": [
      "True\n",
      "True\n",
      "False\n",
      "True\n"
     ]
    }
   ],
   "source": [
    "#ici la réponse\n",
    "def is_palindrome(mot):\n",
    "    mot = mot.lower()\n",
    "    mot = mot.replace(\" \",\"\")\n",
    "    if mot == mot[::-1]:\n",
    "        return True\n",
    "    return False\n",
    "print(is_palindrome(\"radar\"))\n",
    "print(is_palindrome(\"never odd or even\"))\n",
    "print(is_palindrome(\"karine alla en Iran\"))\n",
    "print(is_palindrome(\"un roc si biscornu\"))\n"
   ]
  },
  {
   "cell_type": "markdown",
   "metadata": {},
   "source": [
    "# Exercice pratique: Web scrapping avec BeautifulSoup"
   ]
  },
  {
   "cell_type": "markdown",
   "metadata": {},
   "source": [
    "Voici un exemple de script simple utilisant BeautifulSoup pour extraire des données d'une page Wikipedia :"
   ]
  },
  {
   "cell_type": "code",
   "execution_count": 99,
   "metadata": {},
   "outputs": [
    {
     "name": "stdout",
     "output_type": "stream",
     "text": [
      "<title>Liste des pays par population — Wikipédia</title>\n"
     ]
    }
   ],
   "source": [
    "import requests\n",
    "from bs4 import BeautifulSoup\n",
    "\n",
    "#on fait une requete pour avoir le contenu de la page\n",
    "url = \"https://fr.wikipedia.org/wiki/Liste_des_pays_par_population\"\n",
    "response = requests.get(url)\n",
    "#on utilise un parser HTML pour lire le contenu facilement\n",
    "soup = BeautifulSoup(response.content, 'html.parser')\n",
    "\n",
    "# Extraire le tableau des pays par population\n",
    "title = soup.find('title')\n",
    "print(title)"
   ]
  },
  {
   "cell_type": "markdown",
   "metadata": {},
   "source": [
    "Cette exercice consiste à créer un fichier csv qui contient les informations suivantes en faisant des web scrapping dans les pages wikipédia:\n",
    "\n",
    "**Nom du pays;nombre_de_la_population;superficie;langueOfficielle;nom_de_la_capitale;habitant_dans_la_capitale;latitude_capitale;longitude_capitale**\n",
    "\n",
    "Vous pouvez par exemple utiliser les pages suivantes pour le Japon\n",
    "\n",
    "* https://fr.wikipedia.org/wiki/Liste_des_pays_par_population\n",
    "* https://fr.wikipedia.org/wiki/Japon\n",
    "* https://fr.wikipedia.org/wiki/Tokyo\n",
    "\n",
    "S'il y des informations manquantes,mettez juste des vides"
   ]
  },
  {
   "cell_type": "code",
   "execution_count": 109,
   "metadata": {},
   "outputs": [
    {
     "name": "stdout",
     "output_type": "stream",
     "text": [
      "['\\nRang (2023)\\n\\nPays ou territoire\\n\\nPopulation au 1er juillet 2023\\n\\nPopulation projetée au 1er juillet 2025\\n', '\\n-\\n\\n Monde\\n\\n8\\xa0091\\xa0734\\xa0930\\n\\n8\\xa0231\\xa0613\\xa0070\\n', '\\n1\\n Inde[a]\\n1\\xa0438\\xa0069\\xa0596\\n1\\xa0463\\xa0865\\xa0525\\n', '\\n2\\n Chine[b]\\n1\\xa0422\\xa0584\\xa0933\\n1\\xa0416\\xa0096\\xa0094\\n', '\\n3\\n États-Unis[c]\\n343\\xa0477\\xa0335\\n347\\xa0275\\xa0807\\n', '\\n4\\n Indonésie\\n281\\xa0190\\xa0067\\n285\\xa0721\\xa0236\\n', '\\n5\\n Pakistan[d]\\n247\\xa0504\\xa0495\\n255\\xa0219\\xa0554\\n', '\\n6\\n Nigeria\\n227\\xa0882\\xa0945\\n237\\xa0527\\xa0782\\n', '\\n7\\n Brésil\\n211\\xa0140\\xa0729\\n212\\xa0812\\xa0405\\n', '\\n8\\n Bangladesh\\n171\\xa0466\\xa0990\\n175\\xa0686\\xa0899\\n', '\\n9\\n Russie[e]\\n145\\xa0440\\xa0500\\n143\\xa0997\\xa0393\\n', '\\n10\\n Mexique\\n129\\xa0739\\xa0759\\n131\\xa0946\\xa0900\\n', '\\n11\\n Éthiopie\\n128\\xa0691\\xa0692\\n135\\xa0472\\xa0051\\n', '\\n12\\n Japon\\n124\\xa0370\\xa0947\\n123\\xa0103\\xa0479\\n', '\\n13\\n Philippines\\n114\\xa0891\\xa0199\\n116\\xa0786\\xa0962\\n', '\\n14\\n Égypte\\n114\\xa0535\\xa0772\\n118\\xa0365\\xa0995\\n', '\\n15\\n République démocratique du Congo\\n105\\xa0789\\xa0731\\n112\\xa0832\\xa0473\\n', '\\n16\\n Viêt Nam\\n100\\xa0352\\xa0192\\n101\\xa0598\\xa0527\\n', '\\n17\\n Iran\\n90\\xa0608\\xa0707\\n92\\xa0417\\xa0681\\n', '\\n18\\n Turquie\\n87\\xa0270\\xa0501\\n87\\xa0685\\xa0426\\n', '\\n19\\n Allemagne\\n84\\xa0548\\xa0231\\n84\\xa0075\\xa0075\\n', '\\n20\\n Thaïlande\\n71\\xa0702\\xa0435\\n71\\xa0619\\xa0863\\n', '\\n21\\n Royaume-Uni[f]\\n68\\xa0682\\xa0962\\n69\\xa0551\\xa0332\\n', '\\n22\\n Tanzanie\\n66\\xa0617\\xa0606\\n70\\xa0545\\xa0865\\n', '\\n23\\n France[g]\\n66\\xa0438\\xa0822\\n66\\xa0650\\xa0804\\n', '\\n24\\n Afrique du Sud\\n63\\xa0212\\xa0384\\n64\\xa0747\\xa0319\\n', '\\n25\\n Italie\\n59\\xa0499\\xa0453\\n59\\xa0146\\xa0260\\n', '\\n26\\n Kenya\\n55\\xa0339\\xa0003\\n57\\xa0532\\xa0493\\n', '\\n27\\n Birmanie\\n54\\xa0133\\xa0798\\n54\\xa0850\\xa0648\\n', '\\n28\\n Colombie\\n52\\xa0321\\xa0152\\n53\\xa0425\\xa0635\\n', '\\n29\\n Corée du Sud\\n51\\xa0748\\xa0739\\n51\\xa0667\\xa0029\\n', '\\n30\\n Soudan\\n50\\xa0042\\xa0791\\n51\\xa0662\\xa0147\\n', '\\n31\\n Ouganda\\n48\\xa0656\\xa0601\\n51\\xa0384\\xa0894\\n', '\\n32\\n Espagne\\n47\\xa0911\\xa0579\\n47\\xa0889\\xa0958\\n', '\\n33\\n Algérie\\n46\\xa0164\\xa0219\\n47\\xa0435\\xa0312\\n', '\\n34\\n Argentine\\n45\\xa0538\\xa0401\\n45\\xa0851\\xa0378\\n', '\\n35\\n Irak\\n45\\xa0074\\xa0049\\n47\\xa0020\\xa0774\\n', '\\n36\\n Afghanistan\\n41\\xa0454\\xa0761\\n43\\xa0844\\xa0111\\n', '\\n37\\n Yémen\\n39\\xa0390\\xa0799\\n41\\xa0773\\xa0878\\n', '\\n38\\n Canada\\n39\\xa0299\\xa0105\\n40\\xa0126\\xa0723\\n', '\\n39\\n Pologne\\n38\\xa0762\\xa0844\\n38\\xa0140\\xa0910\\n', '\\n40\\n Ukraine[h]\\n37\\xa0732\\xa0836\\n38\\xa0980\\xa0376\\n', '\\n41\\n\\xa0Maroc[i]\\n37\\xa0712\\xa0505\\n38\\xa0430\\xa0770\\n', '\\n42\\n Angola\\n36\\xa0749\\xa0906\\n39\\xa0040\\xa0039\\n', '\\n43\\n Ouzbékistan\\n35\\xa0652\\xa0307\\n37\\xa0053\\xa0428\\n', '\\n44\\n Malaisie\\n35\\xa0126\\xa0298\\n35\\xa0977\\xa0838\\n', '\\n45\\n Pérou\\n33\\xa0845\\xa0617\\n34\\xa0576\\xa0665\\n', '\\n46\\n Ghana\\n33\\xa0787\\xa0914\\n35\\xa0064\\xa0272\\n', '\\n47\\n Mozambique\\n33\\xa0635\\xa0160\\n35\\xa0631\\xa0653\\n', '\\n48\\n Arabie saoudite\\n33\\xa0264\\xa0292\\n34\\xa0566\\xa0328\\n', '\\n49\\n Madagascar\\n31\\xa0195\\xa0932\\n32\\xa0740\\xa0678\\n', \"\\n50\\n Côte d'Ivoire\\n31\\xa0165\\xa0654\\n32\\xa0711\\xa0547\\n\", '\\n51\\n Népal\\n29\\xa0694\\xa0614\\n29\\xa0618\\xa0118\\n', '\\n52\\n Cameroun\\n28\\xa0372\\xa0687\\n29\\xa0879\\xa0337\\n', '\\n53\\n Venezuela\\n28\\xa0300\\xa0854\\n28\\xa0516\\xa0896\\n', '\\n54\\n Australie\\n26\\xa0451\\xa0124\\n26\\xa0974\\xa0026\\n', '\\n55\\n Corée du Nord\\n26\\xa0418\\xa0204\\n26\\xa0571\\xa0036\\n', '\\n56\\n Niger\\n26\\xa0159\\xa0867\\n27\\xa0917\\xa0831\\n', '\\n57\\n Mali\\n23\\xa0769\\xa0127\\n25\\xa0198\\xa0821\\n', '\\n58\\n Syrie[j]\\n23\\xa0594\\xa0623\\n25\\xa0620\\xa0427\\n', '\\n59\\n Taïwan\\n23\\xa0317\\xa0145\\n23\\xa0112\\xa0793\\n', '\\n60\\n Burkina Faso\\n23\\xa0025\\xa0776\\n24\\xa0074\\xa0580\\n', '\\n61\\n Sri Lanka\\n22\\xa0971\\xa0617\\n23\\xa0229\\xa0470\\n', '\\n62\\n Malawi\\n21\\xa0104\\xa0482\\n22\\xa0216\\xa0120\\n', '\\n63\\n Zambie\\n20\\xa0723\\xa0965\\n21\\xa0913\\xa0874\\n', '\\n64\\n Kazakhstan\\n20\\xa0330\\xa0104\\n20\\xa0843\\xa0754\\n', '\\n65\\n Chili\\n19\\xa0658\\xa0835\\n19\\xa0859\\xa0921\\n', '\\n66\\n Tchad\\n19\\xa0319\\xa0064\\n21\\xa0003\\xa0705\\n', '\\n67\\n Roumanie\\n19\\xa0118\\xa0479\\n18\\xa0908\\xa0650\\n', '\\n68\\n Somalie[k]\\n18\\xa0358\\xa0615\\n19\\xa0654\\xa0739\\n', '\\n69\\n Guatemala\\n18\\xa0124\\xa0838\\n18\\xa0687\\xa0881\\n', '\\n70\\n Pays-Bas[l]\\n18\\xa0092\\xa0524\\n18\\xa0346\\xa0819\\n', '\\n71\\n Sénégal\\n18\\xa0077\\xa0573\\n18\\xa0931\\xa0966\\n', '\\n72\\n Équateur\\n17\\xa0980\\xa0083\\n18\\xa0289\\xa0896\\n', '\\n73\\n Cambodge\\n17\\xa0423\\xa0880\\n17\\xa0847\\xa0982\\n', '\\n74\\n Zimbabwe\\n16\\xa0340\\xa0822\\n16\\xa0950\\xa0795\\n', '\\n75\\n Guinée\\n14\\xa0405\\xa0468\\n15\\xa0099\\xa0727\\n', '\\n76\\n Bénin\\n14\\xa0111\\xa0034\\n14\\xa0814\\xa0460\\n', '\\n77\\n Rwanda\\n13\\xa0954\\xa0471\\n14\\xa0569\\xa0341\\n', '\\n78\\n Burundi\\n13\\xa0689\\xa0450\\n14\\xa0390\\xa0003\\n', '\\n79\\n Bolivie\\n12\\xa0244\\xa0159\\n12\\xa0581\\xa0843\\n', '\\n80\\n Tunisie\\n12\\xa0200\\xa0431\\n12\\xa0348\\xa0573\\n', '\\n81\\n Belgique\\n11\\xa0712\\xa0893\\n11\\xa0758\\xa0603\\n', '\\n82\\n Haïti\\n11\\xa0637\\xa0398\\n11\\xa0906\\xa0095\\n', '\\n83\\n Soudan du Sud\\n11\\xa0483\\xa0374\\n12\\xa0188\\xa0788\\n', '\\n84\\n Jordanie\\n11\\xa0439\\xa0213\\n11\\xa0520\\xa0684\\n', '\\n85\\n République dominicaine\\n11\\xa0331\\xa0265\\n11\\xa0520\\xa0487\\n', '\\n86\\n Cuba\\n11\\xa0019\\xa0931\\n10\\xa0937\\xa0203\\n', '\\n87\\n Tchéquie\\n10\\xa0809\\xa0716\\n10\\xa0609\\xa0239\\n', '\\n88\\n Honduras\\n10\\xa0644\\xa0851\\n11\\xa0005\\xa0850\\n', '\\n89\\n Émirats arabes unis\\n10\\xa0642\\xa0081\\n11\\xa0346\\xa0000\\n', '\\n90\\n Suède\\n10\\xa0551\\xa0494\\n10\\xa0656\\xa0633\\n', '\\n91\\n Portugal\\n10\\xa0430\\xa0738\\n10\\xa0411\\xa0834\\n', '\\n92\\n Tadjikistan\\n10\\xa0389\\xa0799\\n10\\xa0786\\xa0734\\n', '\\n93\\n Papouasie-Nouvelle-Guinée\\n10\\xa0389\\xa0635\\n10\\xa0762\\xa0817\\n', '\\n94\\n Azerbaïdjan[m]\\n10\\xa0318\\xa0207\\n10\\xa0397\\xa0713\\n', '\\n95\\n Grèce\\n10\\xa0242\\xa0908\\n9\\xa0938\\xa0844\\n', '\\n96\\n Hongrie\\n9\\xa0686\\xa0463\\n9\\xa0632\\xa0287\\n', '\\n97\\n Togo\\n9\\xa0304\\xa0337\\n9\\xa0721\\xa0608\\n', '\\n98\\n Israël[n]\\n9\\xa0256\\xa0314\\n9\\xa0517\\xa0181\\n', '\\n99\\n Autriche\\n9\\xa0130\\xa0429\\n9\\xa0113\\xa0574\\n', '\\n100\\n Biélorussie\\n9\\xa0115\\xa0680\\n8\\xa0997\\xa0603\\n', '\\n101\\n Suisse\\n8\\xa0870\\xa0561\\n8\\xa0967\\xa0407\\n', '\\n102\\n Sierra Leone\\n8\\xa0460\\xa0512\\n8\\xa0819\\xa0794\\n', '\\n103\\n Laos\\n7\\xa0664\\xa0993\\n7\\xa0873\\xa0046\\n', '\\n\\xa0\\xa0-\\n Hong Kong\\n7\\xa0442\\xa0734\\n7\\xa0396\\xa0076\\n', '\\n104\\n Turkménistan\\n7\\xa0364\\xa0438\\n7\\xa0618\\xa0847\\n', '\\n105\\n Libye\\n7\\xa0305\\xa0659\\n7\\xa0458\\xa0555\\n', '\\n106\\n Kirghizistan\\n7\\xa0073\\xa0516\\n7\\xa0295\\xa0034\\n', '\\n107\\n Paraguay\\n6\\xa0844\\xa0146\\n7\\xa0013\\xa0078\\n', '\\n108\\n Nicaragua\\n6\\xa0823\\xa0613\\n7\\xa0007\\xa0502\\n', '\\n109\\n Bulgarie\\n6\\xa0795\\xa0803\\n6\\xa0714\\xa0560\\n', '\\n110\\n Serbie[o]\\n6\\xa0773\\xa0201\\n6\\xa0689\\xa0039\\n', '\\n111\\n Salvador\\n6\\xa0309\\xa0624\\n6\\xa0365\\xa0503\\n', '\\n112\\n République du Congo\\n6\\xa0182\\xa0885\\n6\\xa0484\\xa0437\\n', '\\n113\\n Danemark[p]\\n5\\xa0948\\xa0136\\n6\\xa0002\\xa0507\\n', '\\n114\\n Singapour\\n5\\xa0789\\xa0090\\n5\\xa0870\\xa0750\\n', '\\n115\\n Liban\\n5\\xa0773\\xa0493\\n5\\xa0849\\xa0421\\n', '\\n116\\n Finlande[q]\\n5\\xa0601\\xa0185\\n5\\xa0623\\xa0329\\n', '\\n117\\n Norvège\\n5\\xa0519\\xa0167\\n5\\xa0623\\xa0071\\n', '\\n118\\n Slovaquie\\n5\\xa0518\\xa0055\\n5\\xa0474\\xa0881\\n', '\\n119\\n Liberia\\n5\\xa0493\\xa0031\\n5\\xa0731\\xa0206\\n', '\\n120\\n Palestine[r]\\n5\\xa0409\\xa0202\\n5\\xa0589\\xa0623\\n', '\\n121\\n Irlande\\n5\\xa0196\\xa0630\\n5\\xa0308\\xa0039\\n', '\\n122\\n Nouvelle-Zélande[s]\\n5\\xa0172\\xa0836\\n5\\xa0251\\xa0899\\n', '\\n123\\n République centrafricaine\\n5\\xa0152\\xa0421\\n5\\xa0513\\xa0282\\n', '\\n124\\n Costa Rica\\n5\\xa0105\\xa0525\\n5\\xa0152\\xa0950\\n', '\\n125\\n Oman\\n5\\xa0049\\xa0269\\n5\\xa0494\\xa0691\\n', '\\n126\\n Mauritanie\\n5\\xa0022\\xa0441\\n5\\xa0315\\xa0065\\n', '\\n127\\n Koweït\\n4\\xa0838\\xa0782\\n5\\xa0026\\xa0078\\n', '\\n128\\n Panama\\n4\\xa0458\\xa0759\\n4\\xa0571\\xa0189\\n', '\\n129\\n Croatie\\n3\\xa0896\\xa0023\\n3\\xa0848\\xa0160\\n', '\\n130\\n Géorgie[t]\\n3\\xa0807\\xa0492\\n3\\xa0806\\xa0671\\n', '\\n131\\n Érythrée\\n3\\xa0470\\xa0390\\n3\\xa0607\\xa0003\\n', '\\n132\\n Mongolie\\n3\\xa0431\\xa0932\\n3\\xa0517\\xa0100\\n', '\\n133\\n Uruguay\\n3\\xa0388\\xa0081\\n3\\xa0384\\xa0688\\n', '\\n\\xa0\\xa0-\\n Porto Rico\\n3\\xa0242\\xa0023\\n3\\xa0235\\xa0289\\n', '\\n134\\n Bosnie-Herzégovine\\n3\\xa0185\\xa0073\\n3\\xa0140\\xa0095\\n', '\\n135\\n Moldavie[u]\\n3\\xa0067\\xa0070\\n2\\xa0996\\xa0106\\n', '\\n136\\n Qatar\\n2\\xa0979\\xa0082\\n3\\xa0115\\xa0889\\n', '\\n137\\n Namibie\\n2\\xa0963\\xa0095\\n3\\xa0092\\xa0816\\n', '\\n138\\n Arménie\\n2\\xa0943\\xa0393\\n2\\xa0952\\xa0365\\n', '\\n139\\n Lituanie\\n2\\xa0854\\xa0099\\n2\\xa0830\\xa0144\\n', '\\n140\\n Jamaïque\\n2\\xa0839\\xa0786\\n2\\xa0837\\xa0077\\n', '\\n141\\n Albanie\\n2\\xa0811\\xa0655\\n2\\xa0771\\xa0508\\n', '\\n142\\n Gambie\\n2\\xa0697\\xa0845\\n2\\xa0822\\xa0093\\n', '\\n143\\n Gabon\\n2\\xa0484\\xa0789\\n2\\xa0593\\xa0130\\n', '\\n144\\n Botswana\\n2\\xa0480\\xa0244\\n2\\xa0562\\xa0122\\n', '\\n145\\n Lesotho\\n2\\xa0311\\xa0472\\n2\\xa0363\\xa0325\\n', '\\n146\\n Guinée-Bissau\\n2\\xa0153\\xa0339\\n2\\xa0249\\xa0515\\n', '\\n147\\n Slovénie\\n2\\xa0118\\xa0396\\n2\\xa0117\\xa0072\\n', '\\n148\\n Lettonie\\n1\\xa0882\\xa0396\\n1\\xa0853\\xa0559\\n', '\\n149\\n Guinée équatoriale\\n1\\xa0847\\xa0549\\n1\\xa0938\\xa0431\\n', '\\n150\\n Macédoine du Nord\\n1\\xa0831\\xa0802\\n1\\xa0813\\xa0791\\n', '\\n151\\n Kosovo\\n1\\xa0700\\xa0031\\n1\\xa0674\\xa0125\\n', '\\n152\\n Bahreïn\\n1\\xa0569\\xa0666\\n1\\xa0643\\xa0332\\n', '\\n153\\n Trinité-et-Tobago\\n1\\xa0502\\xa0932\\n1\\xa0511\\xa0155\\n', '\\n154\\n Timor oriental\\n1\\xa0384\\xa0286\\n1\\xa0418\\xa0517\\n', '\\n155\\n Estonie\\n1\\xa0367\\xa0196\\n1\\xa0344\\xa0232\\n', '\\n156\\n Chypre[v]\\n1\\xa0344\\xa0976\\n1\\xa0370\\xa0754\\n', '\\n157\\n Maurice\\n1\\xa0273\\xa0588\\n1\\xa0268\\xa0280\\n', '\\n158\\n Eswatini\\n1\\xa0230\\xa0506\\n1\\xa0256\\xa0174\\n', '\\n159\\n Djibouti\\n1\\xa0152\\xa0944\\n1\\xa0184\\xa0076\\n', '\\n160\\n Fidji\\n924\\xa0145\\n933\\xa0154\\n', '\\n\\xa0\\xa0-\\n La Réunion\\n874\\xa0883\\n882\\xa0405\\n', '\\n161\\n Comores\\n850\\xa0387\\n882\\xa0847\\n', '\\n162\\n Guyana\\n826\\xa0353\\n835\\xa0986\\n', '\\n163\\n Îles Salomon\\n800\\xa0005\\n838\\xa0645\\n', '\\n164\\n Bhoutan\\n786\\xa0385\\n796\\xa0682\\n', '\\n\\xa0\\xa0-\\n Macao\\n713\\xa0912\\n722\\xa0007\\n', '\\n165\\n Luxembourg\\n665\\xa0098\\n680\\xa0453\\n', '\\n166\\n Monténégro\\n633\\xa0552\\n632\\xa0729\\n', '\\n167\\n Suriname\\n628\\xa0886\\n639\\xa0850\\n', '\\n168\\nSahara occidental[w]\\n579\\xa0729\\n600\\xa0904\\n', '\\n169\\n Malte\\n532\\xa0956\\n545\\xa0405\\n', '\\n170\\n Maldives\\n525\\xa0994\\n529\\xa0676\\n', '\\n171\\n Cap-Vert\\n522\\xa0331\\n527\\xa0326\\n', '\\n172\\n Brunei\\n458\\xa0949\\n466\\xa0330\\n', '\\n173\\n Belize\\n411\\xa0106\\n422\\xa0924\\n', '\\n174\\n Bahamas\\n399\\xa0440\\n403\\xa0033\\n', '\\n175\\n Islande\\n387\\xa0558\\n398\\xa0266\\n', '\\n\\xa0\\xa0-\\n Guadeloupe\\n376\\xa0517\\n373\\xa0791\\n', '\\n\\xa0\\xa0-\\n Martinique\\n346\\xa0002\\n340\\xa0439\\n', '\\n176\\n Vanuatu\\n320\\xa0409\\n335\\xa0169\\n', '\\n\\xa0\\xa0-\\n Mayotte\\n316\\xa0015\\n337\\xa0011\\n', '\\n\\xa0\\xa0-\\n Guyane\\n303\\xa0402\\n313\\xa0666\\n', '\\n\\xa0\\xa0-\\n Nouvelle-Calédonie\\n289\\xa0870\\n295\\xa0333\\n', '\\n177\\n Barbade\\n282\\xa0336\\n282\\xa0623\\n', '\\n\\xa0\\xa0-\\n Polynésie française\\n281\\xa0118\\n282\\xa0465\\n', '\\n178\\n Sao Tomé-et-Principe\\n230\\xa0871\\n240\\xa0254\\n', '\\n179\\n Samoa\\n216\\xa0663\\n219\\xa0306\\n', '\\n\\xa0\\xa0-\\n Curaçao\\n185\\xa0427\\n185\\xa0487\\n', '\\n180\\n Sainte-Lucie\\n179\\xa0285\\n180\\xa0149\\n', '\\n\\xa0\\xa0-\\n Guam\\n166\\xa0506\\n168\\xa0999\\n', '\\n181\\n Kiribati\\n132\\xa0530\\n136\\xa0488\\n', '\\n182\\n Seychelles\\n127\\xa0951\\n132\\xa0779\\n', '\\n183\\n Grenade\\n117\\xa0081\\n117\\xa0303\\n', '\\n184\\n États fédérés de Micronésie\\n112\\xa0630\\n113\\xa0683\\n', '\\n\\xa0\\xa0-\\n Aruba\\n107\\xa0939\\n108\\xa0147\\n', '\\n185\\n Tonga\\n104\\xa0597\\n103\\xa0742\\n', '\\n\\xa0\\xa0-\\n Jersey\\n103\\xa0674\\n103\\xa0989\\n', '\\n186\\n Saint-Vincent-et-les-Grenadines\\n101\\xa0323\\n99\\xa0924\\n', '\\n187\\n Antigua-et-Barbuda\\n93\\xa0316\\n94\\xa0209\\n', '\\n\\xa0\\xa0-\\n Îles Vierges des États-Unis\\n85\\xa0701\\n84\\xa0138\\n', '\\n\\xa0\\xa0-\\n Île de Man\\n84\\xa0165\\n84\\xa0118\\n', '\\n188\\n Andorre\\n80\\xa0856\\n82\\xa0904\\n', '\\n\\xa0\\xa0-\\n Îles Caïmans\\n73\\xa0038\\n75\\xa0844\\n', '\\n189\\n Dominique\\n66\\xa0510\\n65\\xa0871\\n', '\\n\\xa0\\xa0-\\n Bermudes\\n64\\xa0698\\n64\\xa0555\\n', '\\n\\xa0\\xa0-\\n Guernesey\\n64\\xa0017\\n64\\xa0477\\n', '\\n\\xa0\\xa0-\\n Groenland\\n55\\xa0922\\n55\\xa0745\\n', '\\n\\xa0\\xa0-\\n Îles Féroé\\n54\\xa0714\\n56\\xa0002\\n', '\\n\\xa0\\xa0-\\n Samoa américaines\\n47\\xa0521\\n46\\xa0029\\n', '\\n190\\n Saint-Christophe-et-Niévès\\n46\\xa0758\\n46\\xa0922\\n', '\\n\\xa0\\xa0-\\n Îles Turques-et-Caïques\\n46\\xa0198\\n46\\xa0855\\n', '\\n\\xa0\\xa0-\\n Îles Mariannes du Nord\\n45\\xa0143\\n43\\xa0541\\n', '\\n\\xa0\\xa0-\\n Saint-Martin\\n42\\xa0749\\n43\\xa0923\\n', '\\n191\\n Liechtenstein\\n39\\xa0598\\n40\\xa0128\\n', '\\n\\xa0\\xa0-\\n Îles Vierges britanniques\\n38\\xa0985\\n39\\xa0732\\n', '\\n192\\n Monaco\\n38\\xa0956\\n38\\xa0341\\n', '\\n193\\n Îles Marshall\\n38\\xa0827\\n36\\xa0282\\n', '\\n\\xa0\\xa0-\\n Gibraltar\\n38\\xa0471\\n40\\xa0126\\n', '\\n194\\n Saint-Marin\\n33\\xa0733\\n33\\xa0572\\n', '\\n\\xa0\\xa0-\\n Pays-Bas caribéens\\n29\\xa0898\\n31\\xa0338\\n', '\\n\\xa0\\xa0-\\n Saint-Martin\\n27\\xa0515\\n24\\xa0941\\n', '\\n195\\n Palaos\\n17\\xa0727\\n17\\xa0663\\n', '\\n\\xa0\\xa0-\\n Anguilla\\n14\\xa0410\\n14\\xa0728\\n', '\\n196\\n Îles Cook\\n14\\xa0222\\n13\\xa0263\\n', '\\n197\\n Nauru\\n11\\xa0875\\n12\\xa0025\\n', '\\n\\xa0\\xa0-\\n Wallis-et-Futuna\\n11\\xa0370\\n11\\xa0194\\n', '\\n\\xa0\\xa0-\\n Saint-Barthélemy\\n11\\xa0085\\n11\\xa0414\\n', '\\n198\\n Tuvalu\\n9\\xa0816\\n9\\xa0492\\n', '\\n\\xa0\\xa0-\\n Saint-Pierre-et-Miquelon\\n5\\xa0681\\n5\\xa0574\\n', '\\n\\xa0\\xa0-\\n Sainte-Hélène, Ascension et Tristan da Cunha\\n5\\xa0289\\n5\\xa0197\\n', '\\n\\xa0\\xa0-\\n Montserrat\\n4\\xa0420\\n4\\xa0359\\n', '\\n\\xa0\\xa0-\\n Îles Malouines\\n3\\xa0477\\n3\\xa0469\\n', '\\n\\xa0\\xa0-\\n Tokelau\\n2\\xa0397\\n2\\xa0608\\n', '\\n199\\n Niue\\n1\\xa0817\\n1\\xa0821\\n', '\\n200\\n Vatican\\n496\\n501\\n']\n",
      "Superficie totale non trouvée\n"
     ]
    }
   ],
   "source": [
    "import requests\n",
    "from bs4 import BeautifulSoup\n",
    "import re\n",
    "\n",
    "csv_name = \"data.csv\"\n",
    "\n",
    "url = \"https://fr.wikipedia.org/wiki/Liste_des_pays_par_population\"\n",
    "\n",
    "nom_du_pays = \"\"\n",
    "nombre_de_population = \"\"\n",
    "superficie = \"\"\n",
    "langue_officielle = \"\"\n",
    "nom_de_la_capital = \"\"\n",
    "habitant_dans_la_capitale = \"\"\n",
    "latitude_capitale = \"\"\n",
    "longitude_capitale = \"\"\n",
    "\n",
    "\n",
    "response = requests.get(url)\n",
    "soup = BeautifulSoup(response.content, 'html.parser', from_encoding='utf-8')\n",
    "\n",
    "data_table = soup.find('table')\n",
    "data_content = [tr.text for tr in data_table.find(\"tbody\").find_all(\"tr\")]\n",
    "print(data_content)\n",
    "\n",
    "area_tag = soup.find('th', string=re.compile(r'Superficie totale', re.IGNORECASE))\n",
    "if area_tag:\n",
    "    superficie = area_tag.find_next('td').get_text(strip=True).split(' ')[0]\n",
    "    print(superficie)\n",
    "else:\n",
    "    print(\"Superficie totale non trouvée\")\n",
    "\n",
    "# with open(csv_name, \"w\") as f:\n",
    "    # f.write(\"nom_du_pays,nombre_de_population,superficie,langue_officielle,nom_de_la_capital,habitant_dans_la_capitale,latitude_capitale,longitude_capitale\\n\")\n",
    "    # f.write(\"John,30\\n\")\n",
    "    # f.write(\"Jane,25\\n\")\n"
   ]
  }
 ],
 "metadata": {
  "colab": {
   "collapsed_sections": [],
   "name": "02_Python.ipynb",
   "provenance": [],
   "toc_visible": true
  },
  "kernelspec": {
   "display_name": "Python 3",
   "language": "python",
   "name": "python3"
  },
  "language_info": {
   "codemirror_mode": {
    "name": "ipython",
    "version": 3
   },
   "file_extension": ".py",
   "mimetype": "text/x-python",
   "name": "python",
   "nbconvert_exporter": "python",
   "pygments_lexer": "ipython3",
   "version": "3.13.5"
  }
 },
 "nbformat": 4,
 "nbformat_minor": 4
}
