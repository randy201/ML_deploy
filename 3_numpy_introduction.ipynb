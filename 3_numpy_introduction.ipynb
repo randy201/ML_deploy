{
 "cells": [
  {
   "cell_type": "markdown",
   "metadata": {
    "id": "_9J7KmeNNPUY"
   },
   "source": [
    "# NumPy\n",
    "\n",
    "In this lesson we will learn the basics of numerical analysis using the NumPy library. "
   ]
  },
  {
   "cell_type": "markdown",
   "metadata": {
    "id": "K0FzU8_LTyKF"
   },
   "source": [
    "# Set up"
   ]
  },
  {
   "cell_type": "code",
   "execution_count": 3,
   "metadata": {
    "id": "0-dXQiLlTIgz"
   },
   "outputs": [],
   "source": [
    "import numpy as np"
   ]
  },
  {
   "cell_type": "markdown",
   "metadata": {
    "id": "VoMq0eFRvugb"
   },
   "source": [
    "# Basics"
   ]
  },
  {
   "cell_type": "markdown",
   "metadata": {
    "id": "wnn5IE_aBcpP"
   },
   "source": [
    "Let's take a took at how to create tensors with NumPy.\n",
    "*    **Tensor**: collection of values "
   ]
  },
  {
   "cell_type": "code",
   "execution_count": 2,
   "metadata": {},
   "outputs": [],
   "source": [
    "t= np.array([6,7])"
   ]
  },
  {
   "cell_type": "code",
   "execution_count": 3,
   "metadata": {},
   "outputs": [
    {
     "data": {
      "text/plain": [
       "numpy.ndarray"
      ]
     },
     "execution_count": 3,
     "metadata": {},
     "output_type": "execute_result"
    }
   ],
   "source": [
    "type(t)"
   ]
  },
  {
   "cell_type": "code",
   "execution_count": 48,
   "metadata": {},
   "outputs": [
    {
     "data": {
      "text/plain": [
       "array([1.+2.j, 2.+0.j, 3.+0.j])"
      ]
     },
     "execution_count": 48,
     "metadata": {},
     "output_type": "execute_result"
    }
   ],
   "source": [
    "np.array([1+2j, 2, 3], dtype=complex)"
   ]
  },
  {
   "cell_type": "code",
   "execution_count": 5,
   "metadata": {
    "colab": {
     "base_uri": "https://localhost:8080/",
     "height": 102
    },
    "id": "23tSlin9aWZ8",
    "outputId": "0ebe0914-761b-40ac-87d7-9090e17a3a57"
   },
   "outputs": [
    {
     "name": "stdout",
     "output_type": "stream",
     "text": [
      "x:  [1 2 3]\n",
      "x ndim:  1\n",
      "x shape: (3,)\n",
      "x size:  3\n",
      "x dtype:  int64\n"
     ]
    }
   ],
   "source": [
    "# Vector\n",
    "x = np.array([1,2,3])\n",
    "print (\"x: \", x)\n",
    "print (\"x ndim: \", x.ndim) # number of dimensions\n",
    "print (\"x shape:\", x.shape) # dimensions\n",
    "print (\"x size: \", x.size) # size of elements\n",
    "print (\"x dtype: \", x.dtype) # data type"
   ]
  },
  {
   "cell_type": "code",
   "execution_count": 8,
   "metadata": {
    "colab": {
     "base_uri": "https://localhost:8080/",
     "height": 102
    },
    "id": "ugIZprdIabFF",
    "outputId": "d3c8cf34-2824-4515-d922-ca761102179f"
   },
   "outputs": [
    {
     "name": "stdout",
     "output_type": "stream",
     "text": [
      "x:  [1 2 1]\n",
      "x ndim:  1\n",
      "x shape: (3,)\n",
      "x size:  3\n",
      "x dtype:  int64\n"
     ]
    }
   ],
   "source": [
    "# Vector\n",
    "x = np.array([1.3 , 2.2 , 1.7], dtype=int)\n",
    "print (\"x: \", x)\n",
    "print (\"x ndim: \", x.ndim)\n",
    "print (\"x shape:\", x.shape)\n",
    "print (\"x size: \", x.size)\n",
    "print (\"x dtype: \", x.dtype) # notice the int datatype"
   ]
  },
  {
   "cell_type": "code",
   "execution_count": 9,
   "metadata": {
    "colab": {
     "base_uri": "https://localhost:8080/",
     "height": 136
    },
    "id": "SQI-T_4MbE9J",
    "outputId": "ba3b8e7d-a160-44c4-cae5-5b6eee3f3012"
   },
   "outputs": [
    {
     "name": "stdout",
     "output_type": "stream",
     "text": [
      "x:\n",
      " [[1 2]\n",
      " [3 4]]\n",
      "x ndim:  2\n",
      "x shape: (2, 2)\n",
      "x size:  4\n",
      "x dtype:  int64\n"
     ]
    }
   ],
   "source": [
    "# Matrix\n",
    "x = np.array([[1,2], [3,4]])\n",
    "print (\"x:\\n\", x)\n",
    "print (\"x ndim: \", x.ndim)\n",
    "print (\"x shape:\", x.shape)\n",
    "print (\"x size: \", x.size)\n",
    "print (\"x dtype: \", x.dtype)"
   ]
  },
  {
   "cell_type": "code",
   "execution_count": 5,
   "metadata": {
    "colab": {
     "base_uri": "https://localhost:8080/",
     "height": 187
    },
    "id": "3O1arODThrj_",
    "outputId": "55bccb9d-2990-4dc1-9632-5bf5ca8362c4"
   },
   "outputs": [
    {
     "name": "stdout",
     "output_type": "stream",
     "text": [
      "x:\n",
      " [[[1 2]\n",
      "  [3 4]]\n",
      "\n",
      " [[5 6]\n",
      "  [7 8]]]\n",
      "x ndim:  3\n",
      "x shape: (2, 2, 2)\n",
      "x size:  8\n",
      "x dtype:  int64\n"
     ]
    }
   ],
   "source": [
    "# 3-D Tensor\n",
    "x = np.array([[[1,2],[3,4]],[[5,6],[7,8]]])\n",
    "print (\"x:\\n\", x)\n",
    "print (\"x ndim: \", x.ndim)\n",
    "print (\"x shape:\", x.shape)\n",
    "print (\"x size: \", x.size)\n",
    "print (\"x dtype: \", x.dtype)"
   ]
  },
  {
   "cell_type": "markdown",
   "metadata": {
    "id": "EfeFhsp2CVs5"
   },
   "source": [
    "NumPy also comes with several functions that allow us to create tensors quickly."
   ]
  },
  {
   "cell_type": "code",
   "execution_count": 11,
   "metadata": {
    "colab": {
     "base_uri": "https://localhost:8080/",
     "height": 221
    },
    "id": "z2Qf8EKZln9j",
    "outputId": "b8d4e69f-c1a8-4980-a0eb-b8c10a24ed7f"
   },
   "outputs": [
    {
     "name": "stdout",
     "output_type": "stream",
     "text": [
      "np.zeros((2,2)):\n",
      " [[0. 0.]\n",
      " [0. 0.]]\n",
      "np.ones((2,2)):\n",
      " [[1. 1.]\n",
      " [1. 1.]]\n",
      "np.eye((2)):\n",
      " [[1. 0.]\n",
      " [0. 1.]]\n",
      "np.random.random((2,2)):\n",
      " [[0.48594315 0.25332842]\n",
      " [0.22954126 0.97584114]]\n"
     ]
    }
   ],
   "source": [
    "# Functions\n",
    "print (\"np.zeros((2,2)):\\n\", np.zeros((2,2))) #all zeros\n",
    "print (\"np.ones((2,2)):\\n\", np.ones((2,2))) #all one\n",
    "print (\"np.eye((2)):\\n\", np.eye((2))) # identity matrix \n",
    "print (\"np.random.random((2,2)):\\n\", np.random.random((2,2)))#matrix with random values between 0 and 1"
   ]
  },
  {
   "cell_type": "markdown",
   "metadata": {
    "id": "qVD-MCiCdcV9"
   },
   "source": [
    "# Indexing and slicing"
   ]
  },
  {
   "cell_type": "markdown",
   "metadata": {
    "id": "PmThuBRHCsCA"
   },
   "source": [
    "We can extract specific values from our tensors using indexing.\n",
    "\n",
    "> Keep in mind that when indexing the row and column, indices start at 0. And like indexing with lists, we can use negative indices as well (where -1 is the last item)."
   ]
  },
  {
   "cell_type": "code",
   "execution_count": 15,
   "metadata": {
    "colab": {
     "base_uri": "https://localhost:8080/",
     "height": 68
    },
    "id": "vyt36kFOcVDX",
    "outputId": "965ab808-41d1-4ac9-d483-abefede65b9d"
   },
   "outputs": [
    {
     "name": "stdout",
     "output_type": "stream",
     "text": [
      "x:  [1 2 3]\n",
      "x[0]:  1\n",
      "x:  [0 2 3]\n"
     ]
    }
   ],
   "source": [
    "# Indexing\n",
    "x = np.array([1, 2, 3])\n",
    "print (\"x: \", x)\n",
    "print (\"x[0]: \", x[0])\n",
    "x[0] = 0 #affect new value\n",
    "print (\"x: \", x)"
   ]
  },
  {
   "cell_type": "code",
   "execution_count": 18,
   "metadata": {},
   "outputs": [
    {
     "name": "stdout",
     "output_type": "stream",
     "text": [
      "x = [0 1 2 3 4 5 6 7 8 9]\n"
     ]
    },
    {
     "data": {
      "text/plain": [
       "array([1, 2, 3, 4, 5, 6, 7])"
      ]
     },
     "execution_count": 18,
     "metadata": {},
     "output_type": "execute_result"
    }
   ],
   "source": [
    "lst = [i for i in range(10)] #contract way to create a list\n",
    "x = np.array(lst) \n",
    "print(\"x = {}\".format(x)) #new way to create a string \n",
    "x[1:-2]"
   ]
  },
  {
   "cell_type": "code",
   "execution_count": 20,
   "metadata": {
    "colab": {
     "base_uri": "https://localhost:8080/",
     "height": 153
    },
    "id": "qxHww0didni6",
    "outputId": "8da7780d-4a97-48b2-d318-2057bb2c9050"
   },
   "outputs": [
    {
     "name": "stdout",
     "output_type": "stream",
     "text": [
      "[[ 1  2  3  4]\n",
      " [ 5  6  7  8]\n",
      " [ 9 10 11 12]]\n",
      "x column 1:  [ 2  6 10]\n",
      "x row 0:  [1 2 3 4]\n",
      "x rows 0,1 & cols 1,2: \n",
      " [[2 3]\n",
      " [6 7]]\n"
     ]
    }
   ],
   "source": [
    "# Slicing\n",
    "x = np.array([[1,2,3,4], [5,6,7,8], [9,10,11,12]])\n",
    "print (x)\n",
    "print (\"x column 1: \", x[:, 1]) #take all rows and the column 1\n",
    "print (\"x row 0: \", x[0, :]) #take  row 0 and all columns\n",
    "print (\"x rows 0,1 & cols 1,2: \\n\", x[0:2, 1:3]) #take rows 0 and 1, and columns 1 and 2"
   ]
  },
  {
   "cell_type": "code",
   "execution_count": 21,
   "metadata": {
    "colab": {
     "base_uri": "https://localhost:8080/",
     "height": 119
    },
    "id": "A52pzB9idyDE",
    "outputId": "a191a016-6cf4-442f-9700-df294979c413"
   },
   "outputs": [
    {
     "name": "stdout",
     "output_type": "stream",
     "text": [
      "[[ 1  2  3  4]\n",
      " [ 5  6  7  8]\n",
      " [ 9 10 11 12]]\n",
      "rows_to_get:  [0 1 2]\n",
      "cols_to_get:  [0 2 1]\n",
      "indexed values:  [ 1  7 10]\n"
     ]
    }
   ],
   "source": [
    "# Integer array indexing\n",
    "print (x)\n",
    "rows_to_get = np.array([0, 1, 2])\n",
    "print (\"rows_to_get: \", rows_to_get)\n",
    "cols_to_get = np.array([0, 2, 1])\n",
    "print (\"cols_to_get: \", cols_to_get)\n",
    "# Combine sequences above to get values to get\n",
    "print (\"indexed values: \", x[rows_to_get, cols_to_get]) # (0, 0), (1, 2), (2, 1)"
   ]
  },
  {
   "cell_type": "code",
   "execution_count": 23,
   "metadata": {
    "colab": {
     "base_uri": "https://localhost:8080/",
     "height": 187
    },
    "id": "_R7O5WsVfDij",
    "outputId": "5b5f2f05-4605-4e93-90c2-9b255c63ce1e"
   },
   "outputs": [
    {
     "name": "stdout",
     "output_type": "stream",
     "text": [
      "x:\n",
      " [[1 2]\n",
      " [3 4]\n",
      " [5 6]]\n",
      "x > 2:\n",
      " [[False False]\n",
      " [ True  True]\n",
      " [ True  True]]\n",
      "x[x > 2]:\n",
      " [3 4 5 6]\n"
     ]
    }
   ],
   "source": [
    "# Boolean array indexing\n",
    "x = np.array([[1, 2], [3, 4], [5, 6]])\n",
    "print (\"x:\\n\", x)\n",
    "print (\"x > 2:\\n\", x > 2) #create a boolean matrix with the same shape as x, put True where x[i,j] is greater than 2,and false otherwise\n",
    "print (\"x[x > 2]:\\n\", x[x > 2]) #take all value from where x>2 values were True"
   ]
  },
  {
   "cell_type": "markdown",
   "metadata": {
    "id": "77RCjrQ8gvYW"
   },
   "source": [
    "# Arithmetic\n"
   ]
  },
  {
   "cell_type": "code",
   "execution_count": 25,
   "metadata": {
    "colab": {
     "base_uri": "https://localhost:8080/",
     "height": 170
    },
    "id": "1UJVcNCLfFrV",
    "outputId": "ccdd71d1-5ffd-425b-930b-b133f9b6094b"
   },
   "outputs": [
    {
     "name": "stdout",
     "output_type": "stream",
     "text": [
      "x + y:\n",
      " [[2. 4.]\n",
      " [6. 8.]]\n",
      "x - y:\n",
      " [[0. 0.]\n",
      " [0. 0.]]\n",
      "x * y:\n",
      " [[ 1.  4.]\n",
      " [ 9. 16.]]\n"
     ]
    }
   ],
   "source": [
    "# Basic math\n",
    "x = np.array([[1,2], [3,4]], dtype=np.float64)\n",
    "y = np.array([[1,2], [3,4]], dtype=np.float64)\n",
    "print (\"x + y:\\n\", np.add(x, y)) # or x + y\n",
    "print (\"x - y:\\n\", np.subtract(x, y)) # or x - y\n",
    "print (\"x * y:\\n\", np.multiply(x, y)) # or x * y"
   ]
  },
  {
   "cell_type": "markdown",
   "metadata": {
    "id": "RhEuhgrxf11s"
   },
   "source": [
    "## Dot product"
   ]
  },
  {
   "cell_type": "markdown",
   "metadata": {
    "id": "P_8JZmIuGDjN"
   },
   "source": [
    "One of the most common NumPy operations we’ll use in data analysis is matrix multiplication using the dot product. We take the rows of our first matrix (2) and the columns of our second matrix (2) to determine the dot product, giving us an output of `[2 X 2]`. The only requirement is that the inside dimensions match, in this case the first matrix has 3 columns and the second matrix has 3 rows. \n",
    "\n",
    "<div>\n",
    "<img src=\"https://raw.githubusercontent.com/GokuMohandas/MadeWithML/main/images/foundations/numpy/dot.gif\" width=\"450\">\n",
    "</div>"
   ]
  },
  {
   "cell_type": "code",
   "execution_count": 30,
   "metadata": {
    "colab": {
     "base_uri": "https://localhost:8080/",
     "height": 68
    },
    "id": "XyZVF6gXhTWd",
    "outputId": "fe001321-aae8-4b84-fb29-05e22f8955d2"
   },
   "outputs": [
    {
     "name": "stdout",
     "output_type": "stream",
     "text": [
      "a= [[1. 2. 3.]\n",
      " [4. 5. 6.]]\n",
      "b= [[ 7.  8.]\n",
      " [ 9. 10.]\n",
      " [11. 12.]]\n",
      "(2, 3) · (3, 2) = (2, 2)\n",
      "a.dot(b)= \n",
      " [[ 58.  64.]\n",
      " [139. 154.]]\n"
     ]
    }
   ],
   "source": [
    "# Dot product\n",
    "a = np.array([[1,2,3], [4,5,6]], dtype=np.float64) # we can specify dtype\n",
    "b = np.array([[7,8], [9,10], [11, 12]], dtype=np.float64)\n",
    "c = a.dot(b)\n",
    "print(\"a=\",a)\n",
    "print(\"b=\",b)\n",
    "print (f\"{a.shape} · {b.shape} = {c.shape}\")\n",
    "print (\"a.dot(b)= \\n\",c)"
   ]
  },
  {
   "cell_type": "markdown",
   "metadata": {
    "id": "EjzDdGLZf3fV"
   },
   "source": [
    "## Axis operations"
   ]
  },
  {
   "cell_type": "markdown",
   "metadata": {
    "id": "J0Pflg2RIpeR"
   },
   "source": [
    "We can also do operations across a specific axis."
   ]
  },
  {
   "cell_type": "code",
   "execution_count": 31,
   "metadata": {
    "colab": {
     "base_uri": "https://localhost:8080/",
     "height": 102
    },
    "id": "7pB-H-7phsku",
    "outputId": "e5c425fa-60dc-4f28-c8e1-d68167ce2db6"
   },
   "outputs": [
    {
     "name": "stdout",
     "output_type": "stream",
     "text": [
      "[[1 2]\n",
      " [3 4]]\n",
      "sum all:  10\n",
      "sum axis=0:  [4 6]\n",
      "sum axis=1:  [3 7]\n"
     ]
    }
   ],
   "source": [
    "# Sum across a dimension\n",
    "x = np.array([[1,2],[3,4]])\n",
    "print (x)\n",
    "print (\"sum all: \", np.sum(x)) # adds all elements\n",
    "print (\"sum axis=0: \", np.sum(x, axis=0)) # sum across rows\n",
    "print (\"sum axis=1: \", np.sum(x, axis=1)) # sum across columns"
   ]
  },
  {
   "cell_type": "code",
   "execution_count": 32,
   "metadata": {
    "colab": {
     "base_uri": "https://localhost:8080/",
     "height": 85
    },
    "id": "VC379NrkkNHY",
    "outputId": "b11ff5c7-6490-4015-c108-400a4b7eb826"
   },
   "outputs": [
    {
     "name": "stdout",
     "output_type": "stream",
     "text": [
      "min:  1\n",
      "max:  6\n",
      "min axis=0:  [1 2 3]\n",
      "min axis=1:  [1 4]\n"
     ]
    }
   ],
   "source": [
    "# Min/max\n",
    "x = np.array([[1,2,3], [4,5,6]])\n",
    "print (\"min: \", x.min())\n",
    "print (\"max: \", x.max())\n",
    "print (\"min axis=0: \", x.min(axis=0))\n",
    "print (\"min axis=1: \", x.min(axis=1))"
   ]
  },
  {
   "cell_type": "markdown",
   "metadata": {
    "id": "WPlg42K3f6Q8"
   },
   "source": [
    "## Broadcasting"
   ]
  },
  {
   "cell_type": "markdown",
   "metadata": {
    "id": "luY3wfQ2JRPM"
   },
   "source": [
    "Here, we’re adding a vector with a scalar. Their dimensions aren’t compatible as is but how does NumPy still gives us the right result? This is where broadcasting comes in. The scalar is *broadcast* across the vector so that they have compatible shapes."
   ]
  },
  {
   "cell_type": "code",
   "execution_count": 34,
   "metadata": {
    "colab": {
     "base_uri": "https://localhost:8080/",
     "height": 51
    },
    "id": "awQaYigfOFru",
    "outputId": "79d4408a-9f2d-4187-a0cd-3e8826b9e1b3"
   },
   "outputs": [
    {
     "name": "stdout",
     "output_type": "stream",
     "text": [
      "z:\n",
      " [4 5]\n",
      "v:\n",
      " [ 5 10]\n"
     ]
    }
   ],
   "source": [
    "# Broadcasting\n",
    "x = np.array([1,2]) # vector\n",
    "y = np.array(3) # scalar\n",
    "z = x + y\n",
    "print (\"z:\\n\", z)\n",
    "v = x*5\n",
    "print (\"v:\\n\",v)"
   ]
  },
  {
   "cell_type": "markdown",
   "metadata": {},
   "source": [
    "# To do"
   ]
  },
  {
   "cell_type": "markdown",
   "metadata": {},
   "source": [
    "0. Create with all seen above, a matrix 4x5 with random integer value between 0 and 100"
   ]
  },
  {
   "cell_type": "code",
   "execution_count": 2,
   "metadata": {},
   "outputs": [
    {
     "name": "stdout",
     "output_type": "stream",
     "text": [
      "[[80 42 96 76 56]\n",
      " [95 16  8 54 65]\n",
      " [14 23 82 63 70]\n",
      " [68 63 53 95 48]]\n",
      "(4, 5)\n"
     ]
    }
   ],
   "source": [
    "import numpy as np\n",
    "matrix = np.random.randint(0, 100, (4, 5))\n",
    "print(matrix)\n",
    "print(matrix.shape)"
   ]
  },
  {
   "cell_type": "markdown",
   "metadata": {},
   "source": [
    "1. Create a 1D array of numbers from 0 to 9 using np.arange (name it `arr`)"
   ]
  },
  {
   "cell_type": "code",
   "execution_count": 8,
   "metadata": {},
   "outputs": [
    {
     "data": {
      "text/plain": [
       "array([0, 1, 2, 3, 4, 5, 6, 7, 8, 9])"
      ]
     },
     "execution_count": 8,
     "metadata": {},
     "output_type": "execute_result"
    }
   ],
   "source": [
    "number_array = np.arange(10)\n",
    "number_array"
   ]
  },
  {
   "cell_type": "markdown",
   "metadata": {},
   "source": [
    "2. Extract all odd numbers of `arr`"
   ]
  },
  {
   "cell_type": "code",
   "execution_count": 5,
   "metadata": {},
   "outputs": [
    {
     "name": "stdout",
     "output_type": "stream",
     "text": [
      "[1 3 5 7 9]\n"
     ]
    }
   ],
   "source": [
    "odd_number = number_array[number_array % 2 == 1]\n",
    "print(odd_number)"
   ]
  },
  {
   "cell_type": "markdown",
   "metadata": {},
   "source": [
    "3. Replace all odd numbers in `arr` with `-1`"
   ]
  },
  {
   "cell_type": "code",
   "execution_count": 7,
   "metadata": {},
   "outputs": [
    {
     "name": "stdout",
     "output_type": "stream",
     "text": [
      "[ 0 -1  2 -1  4 -1  6 -1  8 -1]\n"
     ]
    }
   ],
   "source": [
    "number_array[number_array % 2 == 1] = -1\n",
    "print(number_array)"
   ]
  },
  {
   "cell_type": "markdown",
   "metadata": {},
   "source": [
    "4. Re-create `arr` as question 1. Then create a new 1D array where you replace all odd numbers in `arr` with -1 ( without changing `arr` and its even values  by using np.where )"
   ]
  },
  {
   "cell_type": "code",
   "execution_count": 11,
   "metadata": {},
   "outputs": [
    {
     "name": "stdout",
     "output_type": "stream",
     "text": [
      "[ 0 -1  2 -1  4 -1  6 -1  8 -1]\n",
      "[0 1 2 3 4 5 6 7 8 9]\n"
     ]
    }
   ],
   "source": [
    "odd_number = number_array.copy()\n",
    "odd_number[odd_number % 2 == 1] = -1\n",
    "print(odd_number)\n",
    "print(number_array)\n"
   ]
  },
  {
   "cell_type": "markdown",
   "metadata": {},
   "source": [
    "5. Let `q` be the following matrix"
   ]
  },
  {
   "cell_type": "code",
   "execution_count": 12,
   "metadata": {},
   "outputs": [],
   "source": [
    "q = np.array([[1, 2], [3, 4]])"
   ]
  },
  {
   "cell_type": "markdown",
   "metadata": {},
   "source": [
    "Compute the determinant and the inverse of `q` by using np.linalg"
   ]
  },
  {
   "cell_type": "code",
   "execution_count": 14,
   "metadata": {},
   "outputs": [
    {
     "data": {
      "text/plain": [
       "np.float64(-2.0000000000000004)"
      ]
     },
     "execution_count": 14,
     "metadata": {},
     "output_type": "execute_result"
    }
   ],
   "source": [
    "determinant_q = np.linalg.det(q) \n",
    "determinant_q"
   ]
  },
  {
   "cell_type": "markdown",
   "metadata": {},
   "source": [
    "## Problème\n",
    "1) Soit E un ensemble de `n` points dans le plan,\n",
    "$$\n",
    "    E= \\lbrace (x_i, y_i); i=1,\\ldots,n\\rbrace\n",
    "$$\n",
    "On cherche à trouver la droite la plus proche expliquant ces points en utilisant la méthode de moindre carré. C'est-à-dire si on suppose `(D)` cette droite avec l'équation de \n",
    "$$\n",
    "    (D): \\hat{y} = a x + b\n",
    "$$\n",
    "On aimera que les $y_i$ et des $\\hat{y}_i$ soient les plus proches possibles, c'est-à-dire, on choisit $a$ et $b$ en realisant le minimum suivant\n",
    "$$\n",
    "    \\min ||(Y - \\hat{Y})||^2_{2} ~~~~~~~~~~~~~~~~~~(1)\n",
    "$$\n",
    " avec \n",
    "$$\n",
    "    Y = (y_1, y_2, \\ldots y_n) \\text{ et } \\hat{Y} = (\\hat{y}_1, \\hat{y}_2, \\ldots \\hat{y}_n)\n",
    "$$\n",
    "et $||~~~||_2$ est la distance euclidienne d'ordre 2 défini par:\n",
    "$$ \n",
    "    || V || = \\sqrt{v_1^2 + v_2^2 + \\ldots + v_n^2} ~~~ \\text{ pour un vecteur} ~~~ V = (v_1,v_2,\\ldots,v_n) \n",
    "$$\n",
    "\n",
    "L'objectif principal est de trouver la droite `(D)` (c'est-à-dire trouver `a` et `b`) vérifiant l'équation (1)\n",
    "\n",
    "Le problème peut s'écrire sous forme matricielle\n",
    "$$\n",
    "    \\hat{Y} = \\left( \\begin{array}{c} \n",
    "        \\hat{y}_{1} \\\\\n",
    "        \\hat{y}_{2} \\\\\n",
    "        \\ldots \\\\\n",
    "        \\hat{y}_{n}\n",
    "    \\end{array} \\right)\n",
    "    = \\left( \\begin{array}{c} \n",
    "        b + a x_1 \\\\\n",
    "        b + a x_2 \\\\\n",
    "        \\ldots  \\\\\n",
    "        b + a x_n\n",
    "    \\end{array} \\right) \n",
    "    = \\left( \\begin{array}{cc} \n",
    "        1 & x_1 \\\\\n",
    "        1 & x_2 \\\\\n",
    "        \\ldots  & \\\\\n",
    "        1 & x_n\n",
    "    \\end{array} \\right) \n",
    "    \\left( \n",
    "    \\begin{array}{c} \n",
    "        b \\\\ \n",
    "        a \n",
    "    \\end{array} \n",
    "    \\right) = X \\beta\n",
    "$$\n",
    "en posant $$\\beta = \\left( \n",
    "    \\begin{array}{c} \n",
    "        b \\\\ \n",
    "        a \n",
    "    \\end{array} \n",
    "    \\right) $$ et \n",
    "$$\n",
    "X= \\left( \\begin{array}{cc} \n",
    "        1 & x_1 \\\\\n",
    "        1 & x_2 \\\\\n",
    "        \\ldots  & \\\\\n",
    "        1 & x_n\n",
    "    \\end{array} \\right) \n",
    "$$.\n",
    "\n",
    "Le problème revient donc à trouver un $\\beta$ qui vérifie (1), c'est-à-dire trouver le $\\beta$ qui réalise le minimum de \n",
    "$$\n",
    "    ||(Y - X \\beta)||^2_{2} ~~~ (1)\n",
    "$$\n",
    "1) En faisant la remarque que $||(Y - X \\beta)||^2_{2}$ est derivable par rapport à chaque élément de $\\beta$ (ie `a` et `b`) , trouver alors la solution du problème.\n",
    "\n",
    "**Indication**: le minimum d'une fonction se calcule en cherchant le point critique et vérifier si ce dernier est un minimum\n",
    "\n",
    "2) Coder ce problème dans le plan c'est-à-dire on va donner en entrée un jeu de données E et en sortie `a` et `b` qui vérifie l'équation (1) \n",
    "\n",
    "**Indication**: ceci n'est qu'une implémentation de la question 1\n",
    "\n",
    "3) Coder ce problème pour un espace de dimension supérieure c'est-à-dire que on va donner entrée un jeu de données E de la forme\n",
    "   $$\n",
    "    E= \\lbrace (x_{i,0},x_{i,1},x_{i,2}, \\ldots ,x_{i,p}, y_i); i=1,\\ldots,n\\rbrace\n",
    "$$\n",
    "et en sortie les paramètres $\\beta_0,\\beta_1,\\ldots,\\beta_p$ qui vérifie l'équation (1)\n",
    "\n",
    "**Indication** Dans les questions précédentes on a supposé des points dans le plan (des couples (x,y)), mais supposer maintenant que ce sont des points dans des dimensions plus grande donc ( $ \\hat{y} = \\beta_0 + \\beta_1 x_1 + \\beta_2 x_2+ \\ldots + \\beta_p x_p)$\n",
    "   "
   ]
  },
  {
   "cell_type": "code",
   "execution_count": 6,
   "metadata": {},
   "outputs": [
    {
     "name": "stdout",
     "output_type": "stream",
     "text": [
      "Droite d'ajustement : y = 0.9000x + 1.3000\n"
     ]
    }
   ],
   "source": [
    "import numpy as np\n",
    "\n",
    "def regression_lineaire_2d(points):\n",
    "    \"\"\"\n",
    "    Calcule les coefficients a et b de la droite y = ax + b qui minimise l'erreur des moindres carrés.\n",
    "    \n",
    "    Paramètres:\n",
    "    points -- liste de tuples (x, y) représentant les points du plan\n",
    "    \n",
    "    Retourne:\n",
    "    (a, b) -- coefficients de la droite d'ajustement\n",
    "    \"\"\"\n",
    "    # Conversion en array numpy\n",
    "    points = np.array(points)\n",
    "    X = points[:, 0]  # coordonnées x\n",
    "    Y = points[:, 1]  # coordonnées y\n",
    "    \n",
    "    # Construction de la matrice X (avec colonne de 1 pour le terme constant)\n",
    "    n = len(X)\n",
    "    X_mat = np.column_stack((np.ones(n), X))\n",
    "    \n",
    "    # Calcul des coefficients (X^T X)^(-1) X^T Y\n",
    "    XtX = np.dot(X_mat.T, X_mat)\n",
    "    XtX_inv = np.linalg.inv(XtX)\n",
    "    XtY = np.dot(X_mat.T, Y)\n",
    "    beta = np.dot(XtX_inv, XtY)\n",
    "    \n",
    "    return beta[1], beta[0]  # retourne (a, b)\n",
    "\n",
    "# Exemple d'utilisation\n",
    "points = [(1, 2), (2, 3), (3, 5), (4, 4), (5, 6)]\n",
    "a, b = regression_lineaire_2d(points)\n",
    "print(f\"Droite d'ajustement : y = {a:.4f}x + {b:.4f}\")"
   ]
  },
  {
   "cell_type": "code",
   "execution_count": 10,
   "metadata": {},
   "outputs": [
    {
     "name": "stdout",
     "output_type": "stream",
     "text": [
      "Coefficients de la régression (β0, β1, β2, β3): [ 1.         -0.66666667  0.33333333  1.33333333]\n"
     ]
    }
   ],
   "source": [
    "def regression_lineaire_multidim(X, Y):\n",
    "    \"\"\"\n",
    "    Calcule les coefficients de la régression linéaire multiple.\n",
    "    Utilise la pseudo-inverse pour gérer les matrices singulières.\n",
    "    \n",
    "    Paramètres:\n",
    "    X -- matrice de taille (n, p) des variables explicatives\n",
    "    Y -- vecteur de taille (n,) de la variable à expliquer\n",
    "    \n",
    "    Retourne:\n",
    "    beta -- vecteur des coefficients de la régression\n",
    "    \"\"\"\n",
    "    # Ajout de la colonne de 1 pour le terme constant\n",
    "    X_mat = np.column_stack((np.ones(X.shape[0]), X))\n",
    "    \n",
    "    # Calcul des coefficients en utilisant la pseudo-inverse\n",
    "    beta = np.linalg.pinv(X_mat) @ Y\n",
    "    \n",
    "    return beta\n",
    "\n",
    "# Exemple d'utilisation\n",
    "X = np.array([\n",
    "    [1, 2, 3],\n",
    "    [4, 5, 6],\n",
    "    [7, 8, 9],\n",
    "    [10, 11, 12],\n",
    "    [13, 14, 15]\n",
    "])\n",
    "Y = np.array([5, 8, 11, 14, 17])\n",
    "\n",
    "beta = regression_lineaire_multidim(X, Y)\n",
    "print(\"Coefficients de la régression (β0, β1, β2, β3):\", beta)"
   ]
  },
  {
   "cell_type": "code",
   "execution_count": null,
   "metadata": {},
   "outputs": [
    {
     "name": "stdout",
     "output_type": "stream",
     "text": [
      "Coefficients avec SVD (β0, β1, β2, β3): [[ 8.37472630e+00  9.63028033e-01 -2.84008279e-16  0.00000000e+00]\n",
      " [-8.76279137e+00 -1.00765248e+00  2.97168553e-16  0.00000000e+00]\n",
      " [-3.88065071e-01 -4.46244484e-02  1.31602740e-17  0.00000000e+00]\n",
      " [ 7.98666123e+00  9.18403584e-01 -2.70848005e-16  0.00000000e+00]]\n"
     ]
    },
    {
     "ename": "",
     "evalue": "",
     "output_type": "error",
     "traceback": [
      "\u001b[1;31mThe Kernel crashed while executing code in the current cell or a previous cell. \n",
      "\u001b[1;31mPlease review the code in the cell(s) to identify a possible cause of the failure. \n",
      "\u001b[1;31mClick <a href='https://aka.ms/vscodeJupyterKernelCrash'>here</a> for more info. \n",
      "\u001b[1;31mView Jupyter <a href='command:jupyter.viewOutput'>log</a> for further details."
     ]
    }
   ],
   "source": [
    "def regression_lineaire_svd(X, Y):\n",
    "    \"\"\"\n",
    "    Calcule les coefficients de la régression linéaire multiple\n",
    "    en utilisant la décomposition SVD pour une meilleure stabilité numérique.\n",
    "    \"\"\"\n",
    "    # Ajout de la colonne de 1 pour le terme constant\n",
    "    X_mat = np.column_stack((np.ones(X.shape[0]), X))\n",
    "    \n",
    "    # Décomposition SVD\n",
    "    U, s, Vt = np.linalg.svd(X_mat, full_matrices=False)\n",
    "    \n",
    "    # Inversion des valeurs singulières (avec un seuil pour éviter la division par zéro)\n",
    "    threshold = np.finfo(s.dtype).eps * max(X_mat.shape) * s[0]\n",
    "    s_inv = np.zeros_like(s)\n",
    "    s_inv[s > threshold] = 1/s[s > threshold]\n",
    "    \n",
    "    # Calcul des coefficients\n",
    "    beta = Vt.T @ (s_inv.reshape(-1, 1) * (U.T @ Y))\n",
    "    \n",
    "    return beta\n",
    "\n",
    "# Utilisation\n",
    "beta_svd = regression_lineaire_svd(X, Y)\n",
    "print(\"Coefficients avec SVD (β0, β1, β2, β3):\", beta_svd)"
   ]
  }
 ],
 "metadata": {
  "colab": {
   "collapsed_sections": [],
   "name": "03_NumPy",
   "provenance": [],
   "toc_visible": true
  },
  "kernelspec": {
   "display_name": "Python 3",
   "language": "python",
   "name": "python3"
  },
  "language_info": {
   "codemirror_mode": {
    "name": "ipython",
    "version": 3
   },
   "file_extension": ".py",
   "mimetype": "text/x-python",
   "name": "python",
   "nbconvert_exporter": "python",
   "pygments_lexer": "ipython3",
   "version": "3.13.5"
  }
 },
 "nbformat": 4,
 "nbformat_minor": 4
}
